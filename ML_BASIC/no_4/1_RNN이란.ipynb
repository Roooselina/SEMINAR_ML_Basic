{
 "cells": [
  {
   "cell_type": "markdown",
   "id": "9cd6744d-d3ca-4ed2-ad71-9a8811a517ca",
   "metadata": {},
   "source": [
    "## RNN\n",
    "\n",
    "데이터 순서에 상관 여부가 있는가\n",
    "\n",
    "ㄴ> 有: 스트링, 위치 정보가 有모든 데이터 등...\n",
    "\n",
    "ㄴ> 無: 개, 고양이 분류 이미지 등...\n",
    "\n",
    "1. X0입력->H0 데이터 출력\n",
    "2. X1입력->H1 데이터 출력(H0 데이터 반영)\n",
    "3. X2입력->H2 데이터 출력(H1 데이터 반영)....\n",
    "4. Xn입력->Hn 데이터 출력(Hn-1 데이터 반영)=>최종 출력\n",
    "\n",
    "ㄴ>순서를 이해하는 것 처럼 작동한다.(단어 완성 알고리즘처럼)\n"
   ]
  },
  {
   "cell_type": "markdown",
   "id": "7c3957c5-79d2-48e0-b35b-8e9c4977cb30",
   "metadata": {},
   "source": [
    "\n",
    "\n",
    "## 데이터 입력 유형\n",
    "1. 1 to 1\n",
    "2. 1 to many(1개 입력; 多출력) ex. 이미지 입력 -> 이미지 해설\n",
    "3. many to 1(多 입력; 1 출력) ex. 문장 입력 - > 단어의 의미 해석\n",
    "4. many to many(多 입력; 多출력) ex. 문장 입력 -> 문장 출력(문장 번역 등)\n",
    "5. many to many2(입력, 출력 개수 동일)ex. 비디오 출력"
   ]
  },
  {
   "cell_type": "markdown",
   "id": "22425885-3af8-482e-a7e0-7f53258f05ca",
   "metadata": {},
   "source": [
    "## python에서 사용법\n",
    "\n",
    "1. rnn = torch.nn.RNN(input_size, hidden_size)\n",
    "2. outputs, _status = rnn(input_data)\n",
    "\n",
    "\n",
    "**input data는 3개의 데이터가 입력된다.**\n",
    "\n",
    "**outpu data 또한 3개의 데이터가 출력된다.**\n"
   ]
  },
  {
   "cell_type": "code",
   "execution_count": 1,
   "id": "f7175a9d-65f5-4e17-98c5-ed934be755a7",
   "metadata": {},
   "outputs": [],
   "source": [
    "import torch.nn as nn\n",
    "import torch\n",
    "import numpy as np"
   ]
  },
  {
   "cell_type": "markdown",
   "id": "abb9d031-87ae-4153-804e-815a6f8b9c6d",
   "metadata": {},
   "source": [
    "## Input data\n",
    "\n",
    "1. 배치 사이즈는 input_data의 첫번째 크기가 된다. **자동으로 계산되기 때문에 별도로 입력할 필요 없다.**\n",
    "2. sequence length(input data 크기)가 input_data 두번째 값이 된다. **자동으로 계산되기 때문에 별도로 입력할 필요 없다.**\n",
    "3. ex. len(단어) 등이 input_size 가 input_data 마지막 값이 된다.\n",
    "\n",
    "=> input_data=(batch_size, input_lenght, input_size)\n",
    "\n",
    "## Output data\n",
    "1. 배치 사이즈는 output_data의 첫번째 크기가 된다. **자동으로 계산되기 때문에 별도로 입력할 필요 없다.**\n",
    "2. sequence length(input data 크기)가 output_data 두번째 값이 된다. **자동으로 계산되기 때문에 별도로 입력할 필요 없다.**\n",
    "3. hidden size 크기가 output 크기가 마지막 값이 된다. (왜? 입력 값=>Hn값, 순환 값 2개로 분리되기 때문\n",
    "\n",
    "=> input_data=(batch_size, input_lenght, hidden_size)"
   ]
  },
  {
   "cell_type": "code",
   "execution_count": 2,
   "id": "f4aa588c-bfdc-4f0d-892d-a09a64cf9340",
   "metadata": {},
   "outputs": [
    {
     "name": "stdout",
     "output_type": "stream",
     "text": [
      "torch.Size([3, 5, 4])\n"
     ]
    }
   ],
   "source": [
    "input_size=4\n",
    "hidden_size = 2\n",
    "\n",
    "h=[1,0,0,0]\n",
    "e=[0,1,0,0]\n",
    "l=[0,0,1,0]\n",
    "o=[0,0,0,1]\n",
    "##hello를 벡터로 표현한 값이다.\n",
    "\n",
    "word = [[h,e,l,l,o],\n",
    "        [e,o,l,l,l],\n",
    "        [l,l,e,e,l]]\n",
    "\n",
    "##batch = 3\n",
    "## lenght 5\n",
    "## input_size = 4\n",
    "\n",
    "input_data = np.array(word, dtype=np.float32)\n",
    "input_data = torch.Tensor(input_data)\n",
    "\n",
    "print(input_data.shape)"
   ]
  },
  {
   "cell_type": "code",
   "execution_count": 3,
   "id": "4861b049-0c77-4cba-9bc8-e2279ef7e63b",
   "metadata": {},
   "outputs": [],
   "source": [
    "rnn = torch.nn.RNN(input_size, hidden_size)\n",
    "outputs, _status = rnn(input_data)"
   ]
  },
  {
   "cell_type": "code",
   "execution_count": 4,
   "id": "b451311a-0ada-467d-ba22-c7f7ef5822bb",
   "metadata": {},
   "outputs": [
    {
     "name": "stdout",
     "output_type": "stream",
     "text": [
      "torch.Size([3, 5, 2])\n"
     ]
    }
   ],
   "source": [
    "print(outputs.shape)"
   ]
  }
 ],
 "metadata": {
  "kernelspec": {
   "display_name": "Python 3 (ipykernel)",
   "language": "python",
   "name": "python3"
  },
  "language_info": {
   "codemirror_mode": {
    "name": "ipython",
    "version": 3
   },
   "file_extension": ".py",
   "mimetype": "text/x-python",
   "name": "python",
   "nbconvert_exporter": "python",
   "pygments_lexer": "ipython3",
   "version": "3.11.5"
  }
 },
 "nbformat": 4,
 "nbformat_minor": 5
}

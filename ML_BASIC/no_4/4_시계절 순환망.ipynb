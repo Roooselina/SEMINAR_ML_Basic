{
 "cells": [
  {
   "cell_type": "markdown",
   "id": "7eb56c9e-9ea9-4b6f-9a4c-bd2df2dc247f",
   "metadata": {},
   "source": [
    "## 시계열 데이터\n",
    "\n",
    "말 그대로 시간에 따라 변화하는 값"
   ]
  },
  {
   "cell_type": "markdown",
   "id": "6bd5248c-ccf1-46a4-901c-d32bc2ceeeae",
   "metadata": {},
   "source": [
    "## sequence sequence 모델\n",
    "\n",
    "encoder : 입력된 x(모든 문장 한번에 전달)를 압축된 벡터로 전달\n",
    "\n",
    "decoder : 값 받아 첫 셀의 히든 state에 전달->학습(예측, 학습, 예측..)\n",
    "\n"
   ]
  },
  {
   "cell_type": "code",
   "execution_count": null,
   "id": "7884825e-cab1-4770-8357-7c429aea0396",
   "metadata": {},
   "outputs": [],
   "source": []
  }
 ],
 "metadata": {
  "kernelspec": {
   "display_name": "Python 3 (ipykernel)",
   "language": "python",
   "name": "python3"
  },
  "language_info": {
   "codemirror_mode": {
    "name": "ipython",
    "version": 3
   },
   "file_extension": ".py",
   "mimetype": "text/x-python",
   "name": "python",
   "nbconvert_exporter": "python",
   "pygments_lexer": "ipython3",
   "version": "3.11.5"
  }
 },
 "nbformat": 4,
 "nbformat_minor": 5
}

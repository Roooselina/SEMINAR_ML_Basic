{
 "cells": [
  {
   "cell_type": "markdown",
   "id": "371693e5-16e0-4a60-bc6a-cc9143b07443",
   "metadata": {},
   "source": [
    "## 가중치 초기화"
   ]
  },
  {
   "cell_type": "raw",
   "id": "07569f8b-4441-4d95-b94f-80ec3aa1c481",
   "metadata": {},
   "source": [
    "무작위로 가중치 초기화 : 성능 떨어짐\n",
    "가중치 초기화: 성능 향상\n",
    "ㄴ> but 가중치 0으로 초기화 : w * x + b => w*x값 0으로 바뀌어서 추후 값 변경 안됨"
   ]
  },
  {
   "cell_type": "raw",
   "id": "599178c7-f785-4f97-8a4c-fe25b115e2f6",
   "metadata": {},
   "source": [
    "\n",
    "RBM 초기화 방식:\n",
    "1차;\n",
    " ㅇ ㅇ ㅇ ㅇ  (각각은 연결 X)\n",
    " \n",
    " /\\/\\/\\/\\/\\/\\ (모든 레이어 서로 연결)\n",
    "ㅇ ㅇ ㅇ ㅇ ㅇ (각각 연결 X)\n",
    "\n",
    "2차;\n",
    " ㅇ ㅇ ㅇ ㅇ  (각각은 연결 X)\n",
    " /\\/\\/\\/\\/\\/\\ (모든 레이어 서로 연결)\n",
    " ㅇㅇㅇㅇㅇㅇ\n",
    " /\\/\\/\\/\\/\\/\\ (모든 레이어 서로 연결) -> '''hideen layer 추가'''\n",
    "ㅇ ㅇ ㅇ ㅇ ㅇ (각각 연결 X)\n",
    "\n",
    "...\n",
    "\n",
    "최종적으로 역전파를 통해 w구함-> Fine-tuning 단계\n",
    "ㄴ> 현재는 잘 사용 X"
   ]
  }
 ],
 "metadata": {
  "kernelspec": {
   "display_name": "Python 3 (ipykernel)",
   "language": "python",
   "name": "python3"
  },
  "language_info": {
   "codemirror_mode": {
    "name": "ipython",
    "version": 3
   },
   "file_extension": ".py",
   "mimetype": "text/x-python",
   "name": "python",
   "nbconvert_exporter": "python",
   "pygments_lexer": "ipython3",
   "version": "3.11.5"
  }
 },
 "nbformat": 4,
 "nbformat_minor": 5
}

{
 "cells": [
  {
   "cell_type": "markdown",
   "id": "eb31b372-9530-447a-8a21-dfce707dd3d4",
   "metadata": {},
   "source": [
    "## 오버피팅 문제와 해결방법\n"
   ]
  },
  {
   "cell_type": "raw",
   "id": "8374fb3b-dfe4-4777-b695-d658c7b69286",
   "metadata": {},
   "source": [
    "데이터가 복잡할 때: 일직선 혹은 2차 곡선만으로는 각각 데이터 연결 불가\n",
    "\n",
    "*너무 데이터가 피팅이 덜됨 : underfitting\n",
    "*너무 데이터가 피팅이 잘됨 : overfitting\n",
    "ㄴ> 피팅이란 ? : 선을 통해 데이터를 분류할 때, 선이 데이터와 맞닿았는가\n"
   ]
  },
  {
   "cell_type": "raw",
   "id": "02c10588-6f7d-42ac-ab0b-751c17d673e6",
   "metadata": {},
   "source": [
    "overfitting의 문제\n",
    ": train에서 완벽한 피팅-> test에서 새로운 데이터에 적응 X=>실제 정확도 떨어짐"
   ]
  },
  {
   "cell_type": "raw",
   "id": "1196c1ea-c512-4299-83ee-ed8612651732",
   "metadata": {},
   "source": [
    "/ 기존 인공 신경망 : 히든 노드 n개 전부 사용\n",
    "\\ dropout : 모든 히든 노드 사용 X; 무작위 n개의 노드만 사용\n",
    "    ㄴ> overfitting 예방; 매번 다른 노드 사용-> 같은 학습방법 예방=>정확도 상승"
   ]
  },
  {
   "cell_type": "raw",
   "id": "bcfa265b-edd6-4f4b-b43d-8d581ae6927e",
   "metadata": {},
   "source": [
    " / 학습 : n개 무작위 노드만 사용\n",
    "/ ㄴ>model.train()무조건 설정\n",
    "\\ 테스트 : 모든 노드 사용\n",
    " \\ ㄴ>model.dval() 무조건 설정"
   ]
  },
  {
   "cell_type": "code",
   "execution_count": 44,
   "id": "52766205-0508-47ab-a90b-a7a8516741ff",
   "metadata": {},
   "outputs": [
    {
     "name": "stdout",
     "output_type": "stream",
     "text": [
      "Epoch [0/100], Loss: 2.3011\n",
      "accuracy: 10.299999999999999 %\n"
     ]
    }
   ],
   "source": [
    "import torch\n",
    "import torch.nn as nn\n",
    "import torch.nn.functional as F\n",
    "from torch.utils.data import Dataset, DataLoader\n",
    "import matplotlib.pyplot as plt\n",
    "import numpy as np\n",
    "\n",
    "# 실험용 무작위 데이터 생성\n",
    "class RandomDataset(Dataset):\n",
    "    def __init__(self, num_samples=1000, input_size=784, num_classes=10):\n",
    "        self.num_samples = num_samples\n",
    "        self.input_size = input_size\n",
    "        self.num_classes = num_classes\n",
    "        self.data, self.labels = self.generate_data()\n",
    "\n",
    "    def generate_data(self):\n",
    "        data = np.random.rand(self.num_samples, self.input_size).astype(np.float32)\n",
    "        labels = np.random.randint(self.num_classes, size=self.num_samples)\n",
    "        return torch.tensor(data), torch.tensor(labels, dtype=torch.long)\n",
    "\n",
    "    def __len__(self):\n",
    "        return self.num_samples\n",
    "\n",
    "    def __getitem__(self, idx):\n",
    "        return self.data[idx], self.labels[idx]\n",
    "\n",
    "# 데이터 생성 및 DataLoader 설정\n",
    "experiment_dataset = RandomDataset()\n",
    "experiment_dataloader = DataLoader(experiment_dataset, batch_size=32, shuffle=True)\n",
    "\n",
    "# 모델 정의\n",
    "class CustomModel(nn.Module):\n",
    "    def __init__(self):\n",
    "        super(CustomModel, self).__init__()\n",
    "        self.linear1 = nn.Linear(784, 512)\n",
    "        self.linear2 = nn.Linear(512, 512)\n",
    "        self.linear3 = nn.Linear(512, 512)\n",
    "        self.linear4 = nn.Linear(512, 512)\n",
    "        self.linear5 = nn.Linear(512, 10)\n",
    "        self.relu = nn.ReLU()\n",
    "        self.dropout = nn.Dropout(p=drop_prob)\n",
    "\n",
    "    def forward(self, x):\n",
    "        x = self.dropout(self.relu(self.linear1(x)))\n",
    "        x = self.dropout(self.relu(self.linear2(x)))\n",
    "        x = self.dropout(self.relu(self.linear3(x)))\n",
    "        x = self.dropout(self.relu(self.linear4(x)))\n",
    "        x = self.linear5(x)\n",
    "        return x\n",
    "\n",
    "def train_model(model, dataloader, num_epochs=1000, learning_rate=0.01):\n",
    "    criterion = nn.CrossEntropyLoss()\n",
    "    optimizer = torch.optim.SGD(model.parameters(), lr=learning_rate)\n",
    "\n",
    "    for epoch in range(num_epochs):\n",
    "        model.train()  # 학습 모드로 전환\n",
    "        running_loss = 0.0\n",
    "\n",
    "        for data in dataloader:\n",
    "            inputs, labels = data\n",
    "            optimizer.zero_grad()\n",
    "            outputs = model(inputs)\n",
    "            loss = criterion(outputs, labels)\n",
    "            loss.backward()\n",
    "            optimizer.step()\n",
    "            running_loss += loss.item()\n",
    "\n",
    "        # 매 에폭 종료 후 평균 손실 출력\n",
    "        if epoch % 100 ==0:\n",
    "            print('Epoch [{}/{}], Loss: {:.4f}'.format(epoch, num_epochs, running_loss / len(dataloader)))\n",
    "\n",
    "\n",
    "# 모델 및 데이터 확인\n",
    "experiment_dataset = RandomDataset()\n",
    "experiment_dataloader = DataLoader(experiment_dataset, batch_size=32, shuffle=True)\n",
    "\n",
    "# 모델 생성\n",
    "model = CustomModel()\n",
    "\n",
    "# 모델 학습\n",
    "train_model(model, experiment_dataloader, num_epochs=100, learning_rate=0.01)\n",
    "\n",
    "def calculate_accuracy(model, dataloader):\n",
    "    model.eval()  # 평가 모드로 전환\n",
    "    correct = 0\n",
    "    total = 0\n",
    "\n",
    "    with torch.no_grad():\n",
    "        for data in dataloader:\n",
    "            images, labels = data\n",
    "            outputs = model(images)\n",
    "            _, predicted = torch.max(outputs.data, 1)\n",
    "            total += labels.size(0)\n",
    "            correct += (predicted == labels).sum().item()\n",
    "\n",
    "    accuracy = correct / total\n",
    "    return accuracy\n",
    "\n",
    "# 실험 데이터 생성 및 DataLoader 설정\n",
    "experiment_dataset = RandomDataset()\n",
    "experiment_dataloader = DataLoader(experiment_dataset, batch_size=32, shuffle=True)\n",
    "\n",
    "# 모델 생성\n",
    "model = CustomModel()\n",
    "\n",
    "# 정확도 계산\n",
    "accuracy = calculate_accuracy(model, experiment_dataloader)\n",
    "print(\"accuracy:\",accuracy*100,\"%\")"
   ]
  },
  {
   "cell_type": "code",
   "execution_count": null,
   "id": "adfd278c-5f0f-4fee-accc-f96956f4a95d",
   "metadata": {},
   "outputs": [],
   "source": []
  }
 ],
 "metadata": {
  "kernelspec": {
   "display_name": "Python 3 (ipykernel)",
   "language": "python",
   "name": "python3"
  },
  "language_info": {
   "codemirror_mode": {
    "name": "ipython",
    "version": 3
   },
   "file_extension": ".py",
   "mimetype": "text/x-python",
   "name": "python",
   "nbconvert_exporter": "python",
   "pygments_lexer": "ipython3",
   "version": "3.11.5"
  }
 },
 "nbformat": 4,
 "nbformat_minor": 5
}

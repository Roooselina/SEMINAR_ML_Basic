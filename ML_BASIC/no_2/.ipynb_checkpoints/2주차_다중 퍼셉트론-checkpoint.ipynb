{
 "cells": [
  {
   "cell_type": "markdown",
   "id": "b3972c03-6614-4899-8a66-4e8eb1c4bf41",
   "metadata": {},
   "source": [
    "## 다중 퍼셉트론\n",
    "\n",
    "단층 퍼셉트론으로는 해결 불가\n",
    "다중 퍼셉트론으로 해결 가능\n",
    "\n",
    "다중 퍼셉트론 : 은닉층 1개 이상 보유 인공신경망\n",
    "ㄴ>오차역전파 개발을 통해 다시 활성화\n"
   ]
  },
  {
   "cell_type": "code",
   "execution_count": 5,
   "id": "3cb3ea3e-7bfb-4d13-bb9a-e161c36038e1",
   "metadata": {},
   "outputs": [
    {
     "name": "stdout",
     "output_type": "stream",
     "text": [
      "0.6868228316307068\n",
      "0.021053045988082886\n",
      "0.0063193668611347675\n",
      "0.003429234493523836\n",
      "0.002282442059367895\n",
      "0.001684023649431765\n",
      "0.0013216761872172356\n",
      "0.0010807504877448082\n",
      "0.0009101815521717072\n",
      "0.0007834864081814885\n"
     ]
    }
   ],
   "source": [
    "import torch\n",
    "import torch.nn\n",
    "\n",
    "x = torch.FloatTensor([[0, 0], [0, 1], [1, 0], [1, 1]])\n",
    "y = torch.FloatTensor([[0], [1], [1], [0]])\n",
    "\n",
    "linear1 = torch.nn.Linear(2, 10, bias=True)\n",
    "linear2 = torch.nn.Linear(10, 1, bias=True)\n",
    "model = torch.nn.Sequential(linear1, torch.nn.ReLU(), linear2, torch.nn.Sigmoid())\n",
    "\n",
    "criterion = torch.nn.BCELoss()\n",
    "optimizer = torch.optim.SGD(model.parameters(), lr=0.1)\n",
    "\n",
    "for i in range(10000):\n",
    "    optimizer.zero_grad()\n",
    "    hy = model(x)\n",
    "    cost = criterion(hy, y)\n",
    "    cost.backward()\n",
    "    optimizer.step()\n",
    "    if i % 1000 == 0:\n",
    "        print(cost.item())\n"
   ]
  },
  {
   "cell_type": "code",
   "execution_count": null,
   "id": "d18dc13c-895b-4e32-82cf-78a8dc98f01b",
   "metadata": {},
   "outputs": [],
   "source": [
    "'''여러개 쌓으면 단세포->다세포로 진화함'''"
   ]
  }
 ],
 "metadata": {
  "kernelspec": {
   "display_name": "Python 3 (ipykernel)",
   "language": "python",
   "name": "python3"
  },
  "language_info": {
   "codemirror_mode": {
    "name": "ipython",
    "version": 3
   },
   "file_extension": ".py",
   "mimetype": "text/x-python",
   "name": "python",
   "nbconvert_exporter": "python",
   "pygments_lexer": "ipython3",
   "version": "3.11.5"
  }
 },
 "nbformat": 4,
 "nbformat_minor": 5
}

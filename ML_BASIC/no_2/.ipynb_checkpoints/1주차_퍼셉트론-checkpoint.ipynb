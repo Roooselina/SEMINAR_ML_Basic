{
 "cells": [
  {
   "cell_type": "markdown",
   "id": "1354ebdd-86ad-4e57-aa3e-351e677a177b",
   "metadata": {},
   "source": [
    "## 퍼셉트론\n",
    "\n",
    "인간의 뉴런을 모방한 인공신경망\n",
    "인간의 뉴런으로 들어온 총 충격 합 -> when 임계치 넘겼을 때 : 다른 뉴런으로 신호 보냄\n",
    "\n",
    "\n",
    "퍼셉트론 : w*x+b 에 따라 임계치 넘겼는지를 계산\n",
    "**or, and 게이트만 풀 수 있고, 여러 레이어를 쌓아야지만 xor 게이트 풀 수 있음\n",
    "    ㄴ> 인공신경망 주목 사라짐\n",
    "\n"
   ]
  },
  {
   "cell_type": "code",
   "execution_count": 14,
   "id": "ebf486a4-d0c4-4326-b555-10eb78a86be0",
   "metadata": {},
   "outputs": [
    {
     "name": "stdout",
     "output_type": "stream",
     "text": [
      "0.7113703489303589\n",
      "0.6981842517852783\n",
      "0.6947161555290222\n",
      "0.6936519145965576\n",
      "0.6933169364929199\n",
      "0.693207323551178\n",
      "0.6931696534156799\n",
      "0.6931560039520264\n",
      "0.6931508183479309\n",
      "0.6931487321853638\n"
     ]
    }
   ],
   "source": [
    "import torch\n",
    "import torch.nn\n",
    "\n",
    "x = torch.FloatTensor([[0, 0], [0, 1], [1, 0], [1, 1]])\n",
    "y = torch.FloatTensor([[0], [1], [1], [0]])\n",
    "\n",
    "linear = torch.nn.Linear(2, 1, bias=True)\n",
    "sigmoid = torch.nn.Sigmoid()\n",
    "model = torch.nn.Sequential(linear, sigmoid)\n",
    "\n",
    "criterion = torch.nn.BCELoss()\n",
    "optimizer = torch.optim.SGD(model.parameters(), lr=0.1)\n",
    "\n",
    "for i in range(1000):\n",
    "    optimizer.zero_grad()\n",
    "    hy = model(x)\n",
    "    cost = criterion(hy, y)\n",
    "    cost.backward()\n",
    "    optimizer.step()\n",
    "    if i % 100 == 0:\n",
    "        print(cost.item())\n"
   ]
  },
  {
   "cell_type": "code",
   "execution_count": null,
   "id": "6ff54154-0b20-49b8-b9b5-64555d4d99ea",
   "metadata": {},
   "outputs": [],
   "source": [
    "'''정확도가 0.69에서 더 낮아지지 않음.\n",
    "아무리 계산해도 xor을 계산할 수 없는것(해당 결과 어떻게 도출했는지 선형회귀로 분석 불가)'''"
   ]
  }
 ],
 "metadata": {
  "kernelspec": {
   "display_name": "Python 3 (ipykernel)",
   "language": "python",
   "name": "python3"
  },
  "language_info": {
   "codemirror_mode": {
    "name": "ipython",
    "version": 3
   },
   "file_extension": ".py",
   "mimetype": "text/x-python",
   "name": "python",
   "nbconvert_exporter": "python",
   "pygments_lexer": "ipython3",
   "version": "3.11.5"
  }
 },
 "nbformat": 4,
 "nbformat_minor": 5
}

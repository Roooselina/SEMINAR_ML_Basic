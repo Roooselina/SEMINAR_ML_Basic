{
 "cells": [
  {
   "cell_type": "markdown",
   "id": "73c993b4-e674-41b7-acc1-6346d4b45f02",
   "metadata": {},
   "source": [
    "## gradient Vanishing vs Gradient Exploding"
   ]
  },
  {
   "cell_type": "raw",
   "id": "46e28be9-e216-42f7-ad1e-c7ded5568965",
   "metadata": {},
   "source": [
    "-Gradient Vanishing : 가중치가 점점 0에 수렴; 도출 값이 점점 사라짐\n",
    "-Gradient Exploding : 가중치가 너무 커짐 혹은 nan 값으로 수렴"
   ]
  },
  {
   "cell_type": "markdown",
   "id": "75a65f2c-28ea-4dad-b314-df1bd9993f78",
   "metadata": {},
   "source": [
    "문제 해결 방법: 활성화 함수 사용 / 가중치 초기화 / lr 매우 작게 설정해보기"
   ]
  },
  {
   "cell_type": "markdown",
   "id": "fe516917-435a-4b5d-b593-9a05a672687d",
   "metadata": {},
   "source": [
    " "
   ]
  },
  {
   "cell_type": "raw",
   "id": "c3bd0a96-eb7e-4596-b67f-075d68f01672",
   "metadata": {},
   "source": [
    "Internal Covariate Shift : 입력값 =/= 테스트값\n",
    "ㄴ>원래 차이가 나야 하는 건 맞음 / 근데 너무 차이가 커졌을 때 발생하는 오류\n",
    "ㄴ>input, output 결과 차이 多\n",
    "\n",
    "해결방법: 미니배치 normalization\n",
    "ㄴ> 미니배치(多 데이터 작게 쪼갠 것) 을 일반화해서 원래 데이터 형과 유사하게 복구\n"
   ]
  },
  {
   "cell_type": "markdown",
   "id": "a2ace745-f180-4bd7-8ef0-712868a1ce2a",
   "metadata": {},
   "source": [
    " "
   ]
  }
 ],
 "metadata": {
  "kernelspec": {
   "display_name": "Python 3 (ipykernel)",
   "language": "python",
   "name": "python3"
  },
  "language_info": {
   "codemirror_mode": {
    "name": "ipython",
    "version": 3
   },
   "file_extension": ".py",
   "mimetype": "text/x-python",
   "name": "python",
   "nbconvert_exporter": "python",
   "pygments_lexer": "ipython3",
   "version": "3.11.5"
  }
 },
 "nbformat": 4,
 "nbformat_minor": 5
}

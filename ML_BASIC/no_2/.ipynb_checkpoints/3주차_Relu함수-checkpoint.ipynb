{
 "cells": [
  {
   "cell_type": "markdown",
   "id": "9443d5eb-5e9f-4b39-955e-7c7506b6ab36",
   "metadata": {},
   "source": [
    "## sigmoid함수의 문제\n",
    "\n",
    "sigmoid함수가 0에 유사한 값을 가지고 있을 때 w*x 하는 과정에서 값이 0이 될 수도 있음\n",
    "\n",
    "해결: relu함수\n",
    "ㄴ> 0보다 작으면 0으로, 0보다 크면 y=x를 곱해줌 (양수에서만 사용; 음수에서 작동x)\n"
   ]
  }
 ],
 "metadata": {
  "kernelspec": {
   "display_name": "Python 3 (ipykernel)",
   "language": "python",
   "name": "python3"
  },
  "language_info": {
   "codemirror_mode": {
    "name": "ipython",
    "version": 3
   },
   "file_extension": ".py",
   "mimetype": "text/x-python",
   "name": "python",
   "nbconvert_exporter": "python",
   "pygments_lexer": "ipython3",
   "version": "3.11.5"
  }
 },
 "nbformat": 4,
 "nbformat_minor": 5
}

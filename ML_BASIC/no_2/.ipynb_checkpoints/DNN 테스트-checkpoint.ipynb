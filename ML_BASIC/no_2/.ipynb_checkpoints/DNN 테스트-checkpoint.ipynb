{
 "cells": [
  {
   "cell_type": "code",
   "execution_count": 3,
   "id": "bf972096-69f1-448e-adca-07e09d603861",
   "metadata": {},
   "outputs": [
    {
     "name": "stdout",
     "output_type": "stream",
     "text": [
      "WARNING:tensorflow:From C:\\Users\\kuroc\\anaconda3\\Lib\\site-packages\\keras\\src\\losses.py:2976: The name tf.losses.sparse_softmax_cross_entropy is deprecated. Please use tf.compat.v1.losses.sparse_softmax_cross_entropy instead.\n",
      "\n"
     ]
    }
   ],
   "source": [
    "import os\n",
    "import cv2\n",
    "import numpy as np\n",
    "import matplotlib.pyplot as plt\n",
    "import torch.nn as nn\n",
    "import torch.nn.functional as F\n",
    "from torch.utils.data import DataLoader, Dataset, TensorDataset\n",
    "import torch\n",
    "import tensorflow as tf\n"
   ]
  },
  {
   "cell_type": "code",
   "execution_count": 6,
   "id": "58364cfd-af02-4505-ad18-ab1bf58cb59b",
   "metadata": {},
   "outputs": [
    {
     "name": "stdout",
     "output_type": "stream",
     "text": [
      "Epoch [0/10], Loss: 1.4478\n",
      "Epoch [1/10], Loss: 1.5402\n",
      "Epoch [2/10], Loss: 1.5042\n",
      "Epoch [3/10], Loss: 1.3045\n",
      "Epoch [4/10], Loss: 1.5083\n",
      "Epoch [5/10], Loss: 1.4464\n",
      "Epoch [6/10], Loss: 1.2732\n",
      "Epoch [7/10], Loss: 1.6562\n",
      "Epoch [8/10], Loss: 1.5174\n",
      "Epoch [9/10], Loss: 1.5227\n",
      "Test Accuracy: 85.66%\n"
     ]
    }
   ],
   "source": [
    "\n",
    "# 데이터 로드 및 전처리\n",
    "transform = transforms.Compose([transforms.ToTensor(), transforms.Normalize((0.5,), (0.5,))])\n",
    "\n",
    "train_dataset = datasets.FashionMNIST(root='./data', train=True, download=True, transform=transform)\n",
    "test_dataset = datasets.FashionMNIST(root='./data', train=False, download=True, transform=transform)\n",
    "\n",
    "train_dataloader = DataLoader(train_dataset, batch_size=100, shuffle=True)\n",
    "test_dataloader = DataLoader(test_dataset, shuffle=False)\n",
    "\n",
    "# 모델 정의\n",
    "class CustomModel(nn.Module):\n",
    "    def __init__(self):\n",
    "        super(CustomModel, self).__init__()\n",
    "        self.linear1 = nn.Linear(28 * 28, 100)\n",
    "        self.linear2 = nn.Linear(100, 10)\n",
    "        self.relu = nn.ReLU()\n",
    "        self.dropout = nn.Dropout(p=0.5)\n",
    "\n",
    "    def forward(self, x):\n",
    "        x = x.view(x.size(0), -1)\n",
    "        x = self.dropout(self.relu(self.linear1(x)))\n",
    "        x = self.dropout(self.relu(self.linear2(x)))\n",
    "        return x\n",
    "\n",
    "model = CustomModel()\n",
    "\n",
    "# 손실 함수 및 옵티마이저 정의\n",
    "criterion = nn.CrossEntropyLoss()\n",
    "optimizer = optim.SGD(model.parameters(), lr=0.1)\n",
    "\n",
    "# 학습\n",
    "num_epochs = 10\n",
    "\n",
    "for epoch in range(num_epochs):\n",
    "    model.train()\n",
    "    for inputs, labels in train_dataloader:\n",
    "        outputs = model(inputs)\n",
    "        loss = criterion(outputs, labels)\n",
    "\n",
    "        optimizer.zero_grad()\n",
    "        loss.backward()\n",
    "        optimizer.step()\n",
    "\n",
    "    if epoch % 1 == 0:\n",
    "        print('Epoch [{}/{}], Loss: {:.4f}'.format(epoch, num_epochs, loss.item()))\n",
    "\n",
    "# 테스트\n",
    "model.eval()\n",
    "correct = 0\n",
    "total = 0\n",
    "\n",
    "with torch.no_grad():\n",
    "    for inputs, labels in test_dataloader:\n",
    "        outputs = model(inputs)\n",
    "        _, predicted = torch.max(outputs.data, 1)\n",
    "        total += labels.size(0)\n",
    "        correct += (predicted == labels).sum().item()\n",
    "\n",
    "accuracy = correct / total\n",
    "print('Test Accuracy: {:.2%}'.format(accuracy))\n"
   ]
  },
  {
   "cell_type": "code",
   "execution_count": 46,
   "id": "a40125e6-9891-4525-8874-a34f2b5d8515",
   "metadata": {},
   "outputs": [],
   "source": []
  },
  {
   "cell_type": "code",
   "execution_count": 47,
   "id": "da9d8cf4-7556-47cf-af25-bda26683d5a4",
   "metadata": {},
   "outputs": [],
   "source": []
  },
  {
   "cell_type": "code",
   "execution_count": 48,
   "id": "5ba4de9b-7dc9-4097-90fe-ba4f16468499",
   "metadata": {},
   "outputs": [],
   "source": []
  },
  {
   "cell_type": "code",
   "execution_count": 49,
   "id": "b04f17a7-4c7b-4e8a-82d3-e69130f428b9",
   "metadata": {},
   "outputs": [],
   "source": []
  },
  {
   "cell_type": "code",
   "execution_count": 50,
   "id": "944c79b4-9122-455f-9471-4568e1e2c967",
   "metadata": {},
   "outputs": [],
   "source": []
  },
  {
   "cell_type": "code",
   "execution_count": 51,
   "id": "21595d47-3300-4f9d-9cf2-8601bef89701",
   "metadata": {},
   "outputs": [
    {
     "name": "stdout",
     "output_type": "stream",
     "text": [
      "Epoch [0/10], Cost: 2.302562\n",
      "Epoch [1/10], Cost: 2.302585\n",
      "Epoch [2/10], Cost: 2.302648\n",
      "Epoch [3/10], Cost: 2.302413\n",
      "Epoch [4/10], Cost: 2.302533\n",
      "Epoch [5/10], Cost: 2.302485\n",
      "Epoch [6/10], Cost: 2.302483\n",
      "Epoch [7/10], Cost: 2.302363\n",
      "Epoch [8/10], Cost: 2.302352\n",
      "Epoch [9/10], Cost: 2.302512\n"
     ]
    }
   ],
   "source": []
  },
  {
   "cell_type": "code",
   "execution_count": null,
   "id": "8961a822-7c6b-412f-b7f2-f90a827033d0",
   "metadata": {},
   "outputs": [],
   "source": []
  }
 ],
 "metadata": {
  "kernelspec": {
   "display_name": "Python 3 (ipykernel)",
   "language": "python",
   "name": "python3"
  },
  "language_info": {
   "codemirror_mode": {
    "name": "ipython",
    "version": 3
   },
   "file_extension": ".py",
   "mimetype": "text/x-python",
   "name": "python",
   "nbconvert_exporter": "python",
   "pygments_lexer": "ipython3",
   "version": "3.11.5"
  }
 },
 "nbformat": 4,
 "nbformat_minor": 5
}

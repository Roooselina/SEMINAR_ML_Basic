{
 "cells": [
  {
   "cell_type": "code",
   "execution_count": 1,
   "id": "27cabdd4-f92c-4671-b2d1-2c8832537203",
   "metadata": {},
   "outputs": [],
   "source": [
    "import torch\n",
    "import torch.nn as nn\n",
    "import numpy\n",
    "import torchvision.datasets as dsets\n",
    "import torchvision.transforms as transforms\n",
    "import torch.nn.init\n",
    "import matplotlib.pyplot as plt"
   ]
  },
  {
   "cell_type": "code",
   "execution_count": 2,
   "id": "775426b7-6d53-45e2-a30a-2f5b4d1dda45",
   "metadata": {},
   "outputs": [],
   "source": [
    "rate=0.001\n",
    "epoch=20\n",
    "batch_size = 32"
   ]
  },
  {
   "cell_type": "code",
   "execution_count": 3,
   "id": "6bf508a3-83c0-4b9a-bddc-a6e6d969c812",
   "metadata": {},
   "outputs": [
    {
     "name": "stdout",
     "output_type": "stream",
     "text": [
      "cuda\n"
     ]
    }
   ],
   "source": [
    "device = 'cuda' if torch.cuda.is_available() else 'cpu'\n",
    "\n",
    "torch.manual_seed(777)\n",
    "if device =='cuda':\n",
    "    torch.cuda.manual_seed_all(777)\n",
    "\n",
    "print(device)"
   ]
  },
  {
   "cell_type": "code",
   "execution_count": 4,
   "id": "2a844880-edbd-46c0-b3d8-4b5a0330fe19",
   "metadata": {},
   "outputs": [],
   "source": [
    "mnist_train = dsets.MNIST( root = 'MNIST_data/',\n",
    "                          train= True,\n",
    "                          transform = transforms.ToTensor(),\n",
    "                          download=True)\n",
    " \n",
    "mnist_test = dsets.MNIST( root = 'MNIST_data/',\n",
    "                          train= False,\n",
    "                          transform = transforms.ToTensor(),\n",
    "                          download=True)"
   ]
  },
  {
   "cell_type": "code",
   "execution_count": 5,
   "id": "3e1bbc00-4113-433f-aaeb-46404e1d1d79",
   "metadata": {},
   "outputs": [],
   "source": [
    "data = torch.utils.data.DataLoader(mnist_train, batch_size, shuffle=True)"
   ]
  },
  {
   "cell_type": "code",
   "execution_count": 10,
   "id": "838c4548-e69b-4cab-baa0-1296a2614953",
   "metadata": {},
   "outputs": [],
   "source": [
    "class CNN(nn.Module):\n",
    "    def __init__(self):\n",
    "        super(CNN, self).__init__()\n",
    "        self.layer1 = nn.Sequential(\n",
    "            nn.Conv2d(1, 32, kernel_size=3, stride=1, padding=1),\n",
    "            nn.ReLU(),\n",
    "            nn.MaxPool2d(2)\n",
    "        )\n",
    "        self.layer2 = nn.Sequential(\n",
    "            nn.Conv2d(32, 64, kernel_size=3, stride=1, padding=1),\n",
    "            nn.ReLU(),\n",
    "            nn.MaxPool2d(2)\n",
    "        )\n",
    "        self.layer3 = nn.Sequential(\n",
    "            nn.Conv2d(64, 128, kernel_size=3, stride=1, padding=1),\n",
    "            nn.ReLU(),\n",
    "            nn.Dropout(0.5),\n",
    "            nn.MaxPool2d(2)\n",
    "        )\n",
    "        self.fc = nn.Linear(3*3*128, 10, bias=True)\n",
    "        torch.nn.init.xavier_uniform_(self.fc.weight)\n",
    "\n",
    "    def forward(self, x):\n",
    "        out = self.layer1(x)\n",
    "        out = self.layer2(out)\n",
    "        out = self.layer3(out)\n",
    "        out = out.view(out.size(0), -1)\n",
    "        out = self.fc(out)\n",
    "        return out"
   ]
  },
  {
   "cell_type": "code",
   "execution_count": 14,
   "id": "b003f8ad-5970-460d-95d1-19648b703531",
   "metadata": {},
   "outputs": [],
   "source": [
    "model = CNN().to(device)\n",
    "cr = nn.CrossEntropyLoss()\n",
    "optimizer = torch.optim.Adam(model.parameters(), lr=rate, weight_decay=0.01)"
   ]
  },
  {
   "cell_type": "code",
   "execution_count": 15,
   "id": "36ec9603-1b09-4b63-9f6c-11e17e0060a1",
   "metadata": {},
   "outputs": [
    {
     "name": "stdout",
     "output_type": "stream",
     "text": [
      "[Epoch: 0] cost = 0.2013084590435028\n",
      "[Epoch: 5] cost = 0.10770829766988754\n",
      "[Epoch: 10] cost = 0.10679779201745987\n",
      "[Epoch: 15] cost = 0.10575764626264572\n"
     ]
    }
   ],
   "source": [
    "\n",
    "total_batch = len(data)\n",
    "\n",
    "for epoch in range(epoch):\n",
    "    model.train()  # 모델을 훈련 모드로 설정\n",
    "\n",
    "    avg_cost = 0\n",
    "    for x, y in data:\n",
    "        optimizer.zero_grad()\n",
    "        x = x.to(device)\n",
    "        y = y.to(device)\n",
    "\n",
    "        hy = model(x)\n",
    "        cost = cr(hy, y)\n",
    "\n",
    "        cost.backward()\n",
    "        optimizer.step()\n",
    "\n",
    "        \n",
    "        avg_cost += cost / total_batch\n",
    "\n",
    "    \n",
    "\n",
    "    if epoch % 5 == 0:\n",
    "        print('[Epoch: {}] cost = {}'.format(epoch, avg_cost))\n",
    "        \n"
   ]
  },
  {
   "cell_type": "code",
   "execution_count": 16,
   "id": "5d80a3cb-ba1b-4772-8db1-1782252687c6",
   "metadata": {},
   "outputs": [
    {
     "name": "stdout",
     "output_type": "stream",
     "text": [
      "Accuracy: 97.64999747276306\n",
      "테스트 완료\n"
     ]
    }
   ],
   "source": [
    "model.eval()\n",
    "\n",
    "with torch.no_grad():\n",
    "    x_test = mnist_test.data.view(len(mnist_test), 1, 28, 28).float().to(device)\n",
    "    y_test = mnist_test.targets.to(device)\n",
    "    pr = model(x_test)\n",
    "    _, predictions = torch.max(pr, 1)\n",
    "    correct_predictions = (predictions == y_test).float().sum()\n",
    "    accuracy = correct_predictions / len(y_test)\n",
    "    print(\"Accuracy:\", accuracy.item() * 100)\n",
    "\n",
    "print(\"테스트 완료\")\n"
   ]
  },
  {
   "cell_type": "code",
   "execution_count": null,
   "id": "fcca31ca-a074-4c0a-90eb-339ed0483235",
   "metadata": {},
   "outputs": [],
   "source": []
  }
 ],
 "metadata": {
  "kernelspec": {
   "display_name": "Python 3 (ipykernel)",
   "language": "python",
   "name": "python3"
  },
  "language_info": {
   "codemirror_mode": {
    "name": "ipython",
    "version": 3
   },
   "file_extension": ".py",
   "mimetype": "text/x-python",
   "name": "python",
   "nbconvert_exporter": "python",
   "pygments_lexer": "ipython3",
   "version": "3.11.5"
  }
 },
 "nbformat": 4,
 "nbformat_minor": 5
}

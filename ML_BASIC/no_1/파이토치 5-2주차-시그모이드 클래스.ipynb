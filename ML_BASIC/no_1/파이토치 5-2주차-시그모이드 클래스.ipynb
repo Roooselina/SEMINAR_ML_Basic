{
 "cells": [
  {
   "cell_type": "code",
   "execution_count": 112,
   "id": "45ef2554-f72f-4e78-baa4-d6aa24ba812a",
   "metadata": {},
   "outputs": [],
   "source": [
    "##5주차에서 만든 것을 강의 안보고 내가 class 정의해서 만륾\n",
    "\n",
    "import torch\n",
    "import torch.nn as nn\n",
    "import torch.optim as optim\n",
    "from torch.utils.data import DataLoader, Dataset\n",
    "import torch.nn.functional as F\n",
    "\n",
    "\n",
    "torch.manual_seed(1)\n",
    "\n",
    "x_data = [[1, 2], [2, 3], [3, 1], [4, 3], [5, 3], [6, 2]]\n",
    "y_data = [[0], [0], [0], [1], [1], [1]]\n",
    "\n",
    "x = torch.FloatTensor(x_data)\n",
    "y = torch.FloatTensor(y_data)\n",
    "\n",
    "class binary(nn.Module):\n",
    "    def __init__(self):\n",
    "        super().__init__()\n",
    "        self.linear = nn.Linear(2, 1)\n",
    "\n",
    "    def forward(self, x):\n",
    "        return torch.sigmoid(self.linear(x))\n",
    "\n",
    "model = binary()\n"
   ]
  },
  {
   "cell_type": "code",
   "execution_count": 113,
   "id": "05c3d8d7-d821-4702-a755-07195053f674",
   "metadata": {},
   "outputs": [],
   "source": [
    "\n",
    "w=torch.zeros((2,1), requires_grad=True) ## 입력값 2개, 출력값 1개 / requires_grad = True : 학습 암시\n",
    "b=torch.zeros((1), requires_grad=True) ## 출력값 1개\n"
   ]
  },
  {
   "cell_type": "code",
   "execution_count": 114,
   "id": "5163ae30-c837-4765-adca-a5e1095b6a27",
   "metadata": {},
   "outputs": [
    {
     "name": "stdout",
     "output_type": "stream",
     "text": [
      "Epoch [0/10000], Cost: 0.213677\n",
      "Epoch [1000/10000], Cost: 0.007271\n",
      "Epoch [2000/10000], Cost: 0.003433\n",
      "Epoch [3000/10000], Cost: 0.002212\n",
      "Epoch [4000/10000], Cost: 0.001622\n",
      "Epoch [5000/10000], Cost: 0.001276\n",
      "Epoch [6000/10000], Cost: 0.001050\n",
      "Epoch [7000/10000], Cost: 0.000890\n",
      "Epoch [8000/10000], Cost: 0.000772\n",
      "Epoch [9000/10000], Cost: 0.000682\n"
     ]
    }
   ],
   "source": [
    "epoches = 10000\n",
    "\n",
    "model = binary()\n",
    "optimizer = optim.SGD(model.parameters(), lr=1)\n",
    "\n",
    "for e in range(epoches):\n",
    "    hy = model(x)\n",
    "    cost = F.mse_loss(hy, y)\n",
    "\n",
    "    optimizer.zero_grad()\n",
    "    cost.backward()\n",
    "    optimizer.step()\n",
    "\n",
    "    if e % 1000 == 0:\n",
    "        prediction = hy >= torch.FloatTensor([0.5]).float()\n",
    "        \n",
    "        print('Epoch [{}/{}], Cost: {:.6f}'.format(e, epoches, cost.item()))\n"
   ]
  },
  {
   "cell_type": "code",
   "execution_count": 108,
   "id": "7be3ac4f-e54e-4079-8fa1-eaf40b101595",
   "metadata": {},
   "outputs": [
    {
     "name": "stdout",
     "output_type": "stream",
     "text": [
      "예측값:\n",
      " tensor([[0.],\n",
      "        [0.],\n",
      "        [0.],\n",
      "        [1.],\n",
      "        [1.],\n",
      "        [1.]])\n",
      "학습값:\n",
      " tensor([[0.],\n",
      "        [0.],\n",
      "        [0.],\n",
      "        [1.],\n",
      "        [1.],\n",
      "        [1.]])\n",
      "동일한지 체크값:\n",
      " tensor([[True],\n",
      "        [True],\n",
      "        [True],\n",
      "        [True],\n",
      "        [True],\n",
      "        [True]])\n"
     ]
    }
   ],
   "source": [
    "##최종 테스트\n",
    "\n",
    "prediction = hy >= torch.FloatTensor([0.5]).float()\n",
    "print(\"예측값:\\n\", prediction[:6].float())\n",
    "print(\"학습값:\\n\", y[:6])\n",
    "\n",
    "same = prediction == y.bool()\n",
    "print(\"동일한지 체크값:\\n\", same[:6])"
   ]
  }
 ],
 "metadata": {
  "kernelspec": {
   "display_name": "Python 3 (ipykernel)",
   "language": "python",
   "name": "python3"
  },
  "language_info": {
   "codemirror_mode": {
    "name": "ipython",
    "version": 3
   },
   "file_extension": ".py",
   "mimetype": "text/x-python",
   "name": "python",
   "nbconvert_exporter": "python",
   "pygments_lexer": "ipython3",
   "version": "3.11.5"
  }
 },
 "nbformat": 4,
 "nbformat_minor": 5
}

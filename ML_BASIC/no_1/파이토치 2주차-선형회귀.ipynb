{
 "cells": [
  {
   "cell_type": "code",
   "execution_count": 11,
   "id": "f9b00bce-e9e1-4423-8f0d-33c9f54dd7cb",
   "metadata": {},
   "outputs": [
    {
     "name": "stdout",
     "output_type": "stream",
     "text": [
      "11.993879318237305\n"
     ]
    }
   ],
   "source": [
    "import numpy as np\n",
    "import torch\n",
    "\n",
    "#선형 회귀 분석\n",
    "##우리가 입력값, 출력 값 모두 값을 주고, 가장 평균이 되는 값을 예측하는 방법\n",
    "\n",
    "x_train=torch.FloatTensor([[1],[2],[3]])\n",
    "y_train=torch.FloatTensor([[2],[4],[6]]) \n",
    "\n",
    "w=torch.zeros(1,requires_grad=True) #requires_grad=True는 우리가 학습할 것임을 암시/ 1은 출력 개수\n",
    "b=torch.zeros(1,requires_grad=True) \n",
    "\n",
    "#학습 데이터 설정\n",
    "###################################################################\n",
    "###################################################################\n",
    "#실제 학습\n",
    "\n",
    "\n",
    "epoch = 10000 #반복학습 횟수\n",
    "\n",
    "for epoch in range(1, epoch):\n",
    "    hy=x_train * w + b ##우리가 구할 선형 회귀 식\n",
    "    \n",
    "    ##로스 계산법: 표준편차 이용; 로스 가장 적게 조정하는 방식으로 b조정\n",
    "    cost=torch.mean((hy-y_train)**2)\n",
    "    \n",
    "    optimizer = torch.optim.SGD([w,b],lr=0.0022) ##영어 엘알임. 값 조정하면서 값 예측\n",
    "    ##SGD는 학습할 텐서, w변형 정도(작으면 속도가 느리고 크면 너무 크게 예측값을 바꿈)\n",
    "    \n",
    "    optimizer.zero_grad() ##로스값 초기화\n",
    "    cost.backward() ##역전파\n",
    "    optimizer.step() ##다시 학습(값 개선)\n",
    "\n",
    "\n",
    "######################################################################\n",
    "######################################################################\n",
    "#테스트\n",
    "\n",
    "#그냥 답을 넣을수는 없고, 위처럼 값 대입해야 함\n",
    "\n",
    "test=torch.FloatTensor([6])\n",
    "prediction = w * test + b\n",
    "print(prediction.item()) ##html처럼 item()을 사용해 값만 출력함"
   ]
  },
  {
   "cell_type": "code",
   "execution_count": null,
   "id": "2af3c450-1ab7-4526-8c0b-cf68b97cebde",
   "metadata": {},
   "outputs": [],
   "source": []
  }
 ],
 "metadata": {
  "kernelspec": {
   "display_name": "Python 3 (ipykernel)",
   "language": "python",
   "name": "python3"
  },
  "language_info": {
   "codemirror_mode": {
    "name": "ipython",
    "version": 3
   },
   "file_extension": ".py",
   "mimetype": "text/x-python",
   "name": "python",
   "nbconvert_exporter": "python",
   "pygments_lexer": "ipython3",
   "version": "3.11.5"
  }
 },
 "nbformat": 4,
 "nbformat_minor": 5
}

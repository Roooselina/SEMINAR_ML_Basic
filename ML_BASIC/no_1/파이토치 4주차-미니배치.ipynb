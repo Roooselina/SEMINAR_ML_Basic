{
 "cells": [
  {
   "cell_type": "code",
   "execution_count": null,
   "id": "d778c95e-1924-4647-8b57-bd1c8bd27740",
   "metadata": {},
   "outputs": [
    {
     "name": "stdout",
     "output_type": "stream",
     "text": [
      "Epoch [0/10000], Cost: 12473.894531\n",
      "Epoch [1000/10000], Cost: 0.013637\n",
      "Epoch [2000/10000], Cost: 0.260951\n",
      "Epoch [3000/10000], Cost: 0.654614\n",
      "Epoch [4000/10000], Cost: 0.145391\n",
      "Epoch [5000/10000], Cost: 0.294086\n",
      "Epoch [6000/10000], Cost: 0.554041\n",
      "Epoch [7000/10000], Cost: 0.431706\n",
      "Epoch [8000/10000], Cost: 0.126325\n",
      "Epoch [9000/10000], Cost: 0.180135\n",
      "217.3426971435547\n"
     ]
    }
   ],
   "source": [
    "import torch\n",
    "import torch.nn as nn\n",
    "import torch.optim as optim ##로스 쉽게 정리하기 위함\n",
    "from torch.utils.data import DataLoader, Dataset ##미니배치\n",
    "import torch.nn.functional as F\n",
    "\n"
   ]
  },
  {
   "cell_type": "code",
   "execution_count": null,
   "id": "722732e8-003f-44b9-8420-fbd947adeba2",
   "metadata": {},
   "outputs": [],
   "source": [
    "class MultivariateLinearRegressionModel(nn.Module): \n",
    "    def __init__(self):\n",
    "        super(MultivariateLinearRegressionModel, self).__init__()\n",
    "        self.linear = nn.Linear(3, 1)\n",
    "\n",
    "    def forward(self, x):\n",
    "        return self.linear(x)\n",
    "\n",
    "##어제 실수난 이유; model 정의 안함\n",
    "##다중 입력 선형 회귀 이므로 class에서 multi~regressionModel 설정 해주어야 함\n",
    "##입력값이 각각 3개 이므로, self.liner=nn.Liner(3,1)해줌\n",
    "\n",
    "##입력값으로 x받아서\n",
    "##최종적으로 return self.linear(x)해줌"
   ]
  },
  {
   "cell_type": "code",
   "execution_count": null,
   "id": "789bd1ba-d546-4c8b-9052-573157eef588",
   "metadata": {},
   "outputs": [],
   "source": [
    "##내가 밖에서 x_train = torch.FloatTensor 로 데이터 지정 x\n",
    "##class 변수 선언시 자동으로 데이터 넘어옴\n",
    "##x.data에는 그냥 이중배열 저장(초기화 시); FloatTensor(self.x_data[idx])통해 \n",
    "\n",
    "class CustomDataset(Dataset):\n",
    "    def __init__(self):\n",
    "        self.x_data = [[73, 80, 75],\n",
    "                       [93, 88, 93],\n",
    "                       [89, 91, 90],\n",
    "                       [96, 98, 100],\n",
    "                       [73, 66, 70]]\n",
    "        self.y_data = [[152], [185], [180], [196], [142]]\n",
    "\n",
    "    def __len__(self):\n",
    "        return len(self.x_data)\n",
    "\n",
    "    def __getitem__(self, idx):\n",
    "        x = torch.FloatTensor(self.x_data[idx])\n",
    "        y = torch.FloatTensor(self.y_data[idx])\n",
    "        return x, y\n",
    "\n",
    "# 모델 및 데이터셋 객체 생성\n",
    "model = MultivariateLinearRegressionModel()\n",
    "dataset = CustomDataset() ##dataset에는 FlatTensor형 데이터만 들어있음\n",
    "\n",
    "# DataLoader 설정\n",
    "##DataLoader: torch.utils.data 모듈에 있는 클래스; 주로 데이터셋을 미니배치로 나누어 학습 과정에서 사용하는 역할\n",
    "\n",
    "##dataset데이터를 / batch 크기를 2로 하고 / 섞는것을 허용\n",
    "dataloader = DataLoader(dataset, batch_size=2, shuffle=True) \n",
    "\n"
   ]
  },
  {
   "cell_type": "code",
   "execution_count": null,
   "id": "ad1bd71b-3851-467d-b0ad-4e72c3b007f4",
   "metadata": {},
   "outputs": [
    {
     "name": "stdout",
     "output_type": "stream",
     "text": [
      "Epoch [0/10000], Cost: 3498.724365\n",
      "Epoch [1000/10000], Cost: 0.165597\n",
      "Epoch [2000/10000], Cost: 1.674926\n",
      "Epoch [3000/10000], Cost: 0.837799\n",
      "Epoch [4000/10000], Cost: 0.124381\n",
      "Epoch [5000/10000], Cost: 0.116992\n",
      "Epoch [6000/10000], Cost: 0.799149\n",
      "Epoch [7000/10000], Cost: 0.429543\n",
      "Epoch [8000/10000], Cost: 0.047845\n",
      "Epoch [9000/10000], Cost: 0.015032\n",
      "219.141357421875\n"
     ]
    }
   ],
   "source": [
    "# 옵티마이저 및 학습 설정\n",
    "optimizer = optim.SGD(model.parameters(), lr=1e-5)\n",
    "epoch = 10000\n",
    "\n",
    "# 학습 과정\n",
    "for i in range(epoch):\n",
    "    for batch_x, batch_y in dataloader: ##미니배치로 나뉜 데이터에서 각각 x,y에 대해 학습\n",
    "        hy = model(batch_x) ##x 데이터를 모델에 넣음\n",
    "        cost = F.mse_loss(hy, batch_y)\n",
    "        \n",
    "        ##hy : 예측값 / batch_y = 실제 값\n",
    "        ##예측값-실제값 표준편차를 mse_loss로 구해줌\n",
    "        \n",
    "        optimizer.zero_grad()\n",
    "        cost.backward()\n",
    "        optimizer.step()\n",
    "\n",
    "    if i % 1000 == 0:\n",
    "        print('Epoch [{}/{}], Cost: {:.6f}'.format(i, epoch, cost.item()))\n",
    "\n",
    "# 테스트\n",
    "test = torch.FloatTensor([[100, 110, 120]])\n",
    "prediction = model(test).item()\n",
    "print(prediction)"
   ]
  },
  {
   "cell_type": "code",
   "execution_count": null,
   "id": "727ec18a-f977-49a7-82ca-05e13acaa54b",
   "metadata": {},
   "outputs": [],
   "source": []
  }
 ],
 "metadata": {
  "kernelspec": {
   "display_name": "Python 3 (ipykernel)",
   "language": "python",
   "name": "python3"
  },
  "language_info": {
   "codemirror_mode": {
    "name": "ipython",
    "version": 3
   },
   "file_extension": ".py",
   "mimetype": "text/x-python",
   "name": "python",
   "nbconvert_exporter": "python",
   "pygments_lexer": "ipython3",
   "version": "3.11.5"
  }
 },
 "nbformat": 4,
 "nbformat_minor": 5
}

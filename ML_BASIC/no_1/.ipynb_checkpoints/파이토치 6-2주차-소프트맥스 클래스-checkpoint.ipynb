{
 "cells": [
  {
   "cell_type": "code",
   "execution_count": 35,
   "id": "9de95775-97f9-4509-b520-28fdf4a8b0bf",
   "metadata": {},
   "outputs": [
    {
     "name": "stdout",
     "output_type": "stream",
     "text": [
      "Epoch [0/10000], Cost: 1.952859\n",
      "Epoch [1000/10000], Cost: 0.488749\n",
      "Epoch [2000/10000], Cost: 0.321609\n",
      "Epoch [3000/10000], Cost: 0.262688\n",
      "Epoch [4000/10000], Cost: 0.244530\n",
      "Epoch [5000/10000], Cost: 0.232221\n",
      "Epoch [6000/10000], Cost: 0.223387\n",
      "Epoch [7000/10000], Cost: 0.216770\n",
      "Epoch [8000/10000], Cost: 0.211644\n",
      "Epoch [9000/10000], Cost: 0.207566\n"
     ]
    }
   ],
   "source": [
    "## 강의 안보고 스스로 클래스화\n",
    "\n",
    "import torch\n",
    "import torch.optim as optim\n",
    "import torch.nn.functional as F\n",
    "import torch.nn as nn\n",
    "\n",
    "x_train = [[1,2,1,1],\n",
    "          [2,1,3,2],\n",
    "          [3,1,3,4],\n",
    "          [4,1,5,5],\n",
    "          [1,7,5,5],\n",
    "          [1,2,6,6],\n",
    "          [1,2,6,6],\n",
    "          [1,7,7,7]]\n",
    "y_train = [2,2,2,1,1,1,0,0]\n",
    "x = torch.FloatTensor(x_train)\n",
    "y = torch.LongTensor(y_train)\n",
    "\n",
    "class SoftmaxModel(nn.Module):\n",
    "    def __init__(self):\n",
    "        super().__init__()\n",
    "        self.linear = nn.Linear(4, 3)\n",
    "###########################################\n",
    "    def forward(self, x):\n",
    "        return self.linear(x)\n",
    "\n",
    "#오류가 닜던 부분\n",
    "\n",
    "##오류 이유: softmax(self. linear(x)한 값을 넘겼다.\n",
    "##어차피 손실함수를 크로스 엔트로피로 계산할 것이기 때문에 softmax를 하지 않아도 괜찮다.\n",
    "###########################################\n",
    "\n",
    "model= SoftmaxModel()\n",
    "\n",
    "optimizer = optim.SGD(model.parameters(), lr=0.1)\n",
    "epoch = 10000\n",
    "for e in range(epoch):\n",
    "    hy=model(x)\n",
    "    cost=F.cross_entropy(hy, y)\n",
    "\n",
    "    optimizer.zero_grad()\n",
    "    cost.backward()\n",
    "    optimizer.step()\n",
    "\n",
    "    if e % 1000 == 0:\n",
    "        print('Epoch [{}/{}], Cost: {:.6f}'.format(e, epoch, cost.item()))\n",
    "\n",
    "##"
   ]
  },
  {
   "cell_type": "code",
   "execution_count": null,
   "id": "82cf3f82-5da8-431a-be1f-ad14246ad596",
   "metadata": {},
   "outputs": [],
   "source": []
  }
 ],
 "metadata": {
  "kernelspec": {
   "display_name": "Python 3 (ipykernel)",
   "language": "python",
   "name": "python3"
  },
  "language_info": {
   "codemirror_mode": {
    "name": "ipython",
    "version": 3
   },
   "file_extension": ".py",
   "mimetype": "text/x-python",
   "name": "python",
   "nbconvert_exporter": "python",
   "pygments_lexer": "ipython3",
   "version": "3.11.5"
  }
 },
 "nbformat": 4,
 "nbformat_minor": 5
}

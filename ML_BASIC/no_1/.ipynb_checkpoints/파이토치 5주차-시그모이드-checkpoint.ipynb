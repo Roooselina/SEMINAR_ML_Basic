{
 "cells": [
  {
   "cell_type": "code",
   "execution_count": 27,
   "id": "ada9b7fc-2b0a-42d1-8992-7965de5757f9",
   "metadata": {},
   "outputs": [
    {
     "data": {
      "text/plain": [
       "<torch._C.Generator at 0x270ded6dfd0>"
      ]
     },
     "execution_count": 27,
     "metadata": {},
     "output_type": "execute_result"
    }
   ],
   "source": [
    "\n",
    "##logistic Regression\n",
    "##: m x d 크기의 데이터에서  m개의 결과 도출(결과값: 이진값)\n",
    "\n",
    "##시그모이드 함수 통해서 결과값 자연스럽게 해줌\n",
    "''' 시그모이드 함수 H(x) = 1/(1+e^(-(w^T)*w)임\n",
    "    가중치 e^(-(w^T)*w)는 각 데이터의 가중치(w)와 각각의 데이터를 곱한 값을 더한 값을 의미함\n",
    "    '''\n",
    "\n",
    "import torch\n",
    "import torch.nn as nn\n",
    "import torch.optim as optim\n",
    "import torch.nn.functional as F\n",
    "\n",
    "torch.manual_seed(1) ## 항상 동일한 랜덤값이 나오도록 시드 설정(다시 코드 실행해도 동일 시드 출현=재현성 UP\n"
   ]
  },
  {
   "cell_type": "code",
   "execution_count": 55,
   "id": "6e3e9673-8b94-4448-a8f5-04b9966f1d83",
   "metadata": {},
   "outputs": [],
   "source": [
    "x_data = [[1,2],[2,3],[3,1],[4,3],[5,3],[6,2]] ##6 x 2데이터\n",
    "\n",
    "##6x2의 입력값을 받았으므로 6개의 결과값 존재해야 함\n",
    "##각각의 값은 이진값(시그모이드 함수 사용할 예정)\n",
    "y_data = [[0],[0],[0],[1],[1],[1]]\n"
   ]
  },
  {
   "cell_type": "code",
   "execution_count": 56,
   "id": "7276cd3d-8ef5-438a-9489-09e422abb4b7",
   "metadata": {},
   "outputs": [],
   "source": [
    "\n",
    "x_train=torch.FloatTensor(x_data)\n",
    "y_train=torch.FloatTensor(y_data)\n",
    "\n",
    "##각각의 데이터를 전부 FloatTensor화 해줌\n"
   ]
  },
  {
   "cell_type": "code",
   "execution_count": 57,
   "id": "6dbab925-6a42-42fd-bfba-db626e07a72d",
   "metadata": {},
   "outputs": [],
   "source": [
    "##내가 구하려는 것은 W x X + b이므로 1/1+e^-(x*w +b) 시그모이드 함수 사용할 것임"
   ]
  },
  {
   "cell_type": "code",
   "execution_count": 58,
   "id": "9fac5bc0-c2d4-427f-9af4-d7f2f2c9db69",
   "metadata": {},
   "outputs": [],
   "source": [
    "\n",
    "w=torch.zeros((2,1), requires_grad=True) ## 입력값 2개, 출력값 1개 / requires_grad = True : 학습 암시\n",
    "b=torch.zeros((1), requires_grad=True) ## 출력값 1개\n"
   ]
  },
  {
   "cell_type": "code",
   "execution_count": 59,
   "id": "5f21b874-5893-4917-b730-9baa316981cd",
   "metadata": {},
   "outputs": [
    {
     "data": {
      "text/plain": [
       "'그러나 이렇게 값 일일히 재현 힘듦\\n    따라서 torch.sigmoid(x_train.matmul(w)+b))로 똑같은 기능 재현 가능'"
      ]
     },
     "execution_count": 59,
     "metadata": {},
     "output_type": "execute_result"
    }
   ],
   "source": [
    "\n",
    "hy = 1 / (1+torch.exp(-(x_train.matmul(w)+b))) \n",
    "\n",
    "##위의 시그모이드 함수 재현\n",
    "##torch.exp는 지수 e를 의미함\n",
    "\n",
    "'''그러나 이렇게 값 일일히 재현 힘듦\n",
    "    따라서 torch.sigmoid(x_train.matmul(w)+b))로 똑같은 기능 재현 가능'''\n",
    "\n"
   ]
  },
  {
   "cell_type": "code",
   "execution_count": 60,
   "id": "3aad206c-9728-469c-b53d-696373fc9508",
   "metadata": {},
   "outputs": [
    {
     "name": "stdout",
     "output_type": "stream",
     "text": [
      "Epoch [0/10000], Cost: 0.250000\n",
      "Epoch [1000/10000], Cost: 0.007125\n",
      "Epoch [2000/10000], Cost: 0.003398\n",
      "Epoch [3000/10000], Cost: 0.002197\n",
      "Epoch [4000/10000], Cost: 0.001613\n",
      "Epoch [5000/10000], Cost: 0.001271\n",
      "Epoch [6000/10000], Cost: 0.001046\n",
      "Epoch [7000/10000], Cost: 0.000888\n",
      "Epoch [8000/10000], Cost: 0.000771\n",
      "Epoch [9000/10000], Cost: 0.000680\n"
     ]
    }
   ],
   "source": [
    "\n",
    "##실제 머신러닝 코드 작성\n",
    "\n",
    "epoches=10000\n",
    "\n",
    "optimizer = optim.SGD([w,b],lr=1) ##내가 학습할 요소 w,b를 optim.SGD로 알려줌\n",
    "for e in range(epoches):\n",
    "    hy = 1 / (1+torch.exp(-(x_train.matmul(w)+b)))\n",
    "    cost = F.mse_loss(hy, y_train)\n",
    "\n",
    "    optimizer.zero_grad()\n",
    "    cost.backward()\n",
    "    optimizer.step()\n",
    "\n",
    "    if e % 1000 == 0:\n",
    "        print('Epoch [{}/{}], Cost: {:.6f}'.format(e, epoches, cost.item()))\n",
    "\n"
   ]
  },
  {
   "cell_type": "code",
   "execution_count": 61,
   "id": "15bb6db8-3692-488a-82a8-14c553d9bdc0",
   "metadata": {},
   "outputs": [],
   "source": [
    "############################################################################"
   ]
  },
  {
   "cell_type": "code",
   "execution_count": 62,
   "id": "9b3756d4-023a-404a-af7a-56cf5b0c7166",
   "metadata": {},
   "outputs": [
    {
     "name": "stdout",
     "output_type": "stream",
     "text": [
      "tensor([[2.3470e-04],\n",
      "        [3.1856e-02],\n",
      "        [3.4481e-02],\n",
      "        [9.6198e-01],\n",
      "        [9.9858e-01]], grad_fn=<SliceBackward0>)\n"
     ]
    }
   ],
   "source": [
    "#테스트\n",
    "\n",
    "hy = torch.sigmoid(x_train.matmul(w)+b)\n",
    "print(hy[:-1])\n"
   ]
  },
  {
   "cell_type": "code",
   "execution_count": 63,
   "id": "582553a2-ca6e-403e-9e86-63139316a403",
   "metadata": {},
   "outputs": [
    {
     "name": "stdout",
     "output_type": "stream",
     "text": [
      "예측값:\n",
      " tensor([[0.],\n",
      "        [0.],\n",
      "        [0.],\n",
      "        [1.],\n",
      "        [1.]])\n",
      "학습값:\n",
      " tensor([[0.],\n",
      "        [0.],\n",
      "        [0.],\n",
      "        [1.],\n",
      "        [1.]])\n",
      "동일한지 체크값:\n",
      " tensor([[True],\n",
      "        [True],\n",
      "        [True],\n",
      "        [True],\n",
      "        [True]])\n"
     ]
    }
   ],
   "source": [
    "##결과 출력\n",
    "\n",
    "prediction = hy >= torch.FloatTensor([0.5]).float()\n",
    "print(\"예측값:\\n\", prediction[:5].float())\n",
    "print(\"학습값:\\n\",y_train[:5])\n",
    "\n",
    "same = prediction == y_train.bool()\n",
    "print(\"동일한지 체크값:\\n\", same[:5])\n"
   ]
  },
  {
   "cell_type": "code",
   "execution_count": null,
   "id": "42a1e08b-cd9e-498d-bc24-154f10e665fd",
   "metadata": {},
   "outputs": [],
   "source": []
  }
 ],
 "metadata": {
  "kernelspec": {
   "display_name": "Python 3 (ipykernel)",
   "language": "python",
   "name": "python3"
  },
  "language_info": {
   "codemirror_mode": {
    "name": "ipython",
    "version": 3
   },
   "file_extension": ".py",
   "mimetype": "text/x-python",
   "name": "python",
   "nbconvert_exporter": "python",
   "pygments_lexer": "ipython3",
   "version": "3.11.5"
  }
 },
 "nbformat": 4,
 "nbformat_minor": 5
}

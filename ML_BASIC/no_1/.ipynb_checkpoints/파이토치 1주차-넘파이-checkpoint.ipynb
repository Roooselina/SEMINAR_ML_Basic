{
 "cells": [
  {
   "cell_type": "code",
   "execution_count": 13,
   "id": "4312d7b3",
   "metadata": {},
   "outputs": [
    {
     "name": "stdout",
     "output_type": "stream",
     "text": [
      "tensor(1.5000)\n",
      "tensor([2., 3.])\n"
     ]
    }
   ],
   "source": [
    "import numpy as np\n",
    "import torch\n",
    "\n",
    "t= torch.FloatTensor([1,2]) ##플롯 형태\n",
    "print(t.mean())"
   ]
  },
  {
   "cell_type": "code",
   "execution_count": 18,
   "id": "000fb544-96e7-45b8-a26c-98bbe4b54b3b",
   "metadata": {},
   "outputs": [
    {
     "name": "stdout",
     "output_type": "stream",
     "text": [
      "tensor([2., 3.])\n",
      "tensor([1.5000, 3.5000])\n"
     ]
    }
   ],
   "source": [
    "t=torch.FloatTensor([[1,2],[3,4]])\n",
    "print(t.mean(dim=0)) ##각각 세로축\n",
    "print(t.mean(dim=1)) ##각각 가로축\n"
   ]
  },
  {
   "cell_type": "code",
   "execution_count": 19,
   "id": "86da5d66-06ce-4a03-bcb2-11322485be52",
   "metadata": {},
   "outputs": [
    {
     "name": "stdout",
     "output_type": "stream",
     "text": [
      "tensor(4.)\n",
      "torch.return_types.max(\n",
      "values=tensor([3., 4.]),\n",
      "indices=tensor([1, 1]))\n",
      "torch.return_types.max(\n",
      "values=tensor([2., 4.]),\n",
      "indices=tensor([1, 1]))\n"
     ]
    }
   ],
   "source": [
    "print(t.max()) ##가장 큰 값(마찬가지로 dim 사용 가능)\n",
    "print(t.max(dim=0)) ##가장 큰 값(세로축)\n",
    "print(t.max(dim=1)) ##가장 큰 값(가로축)\n"
   ]
  },
  {
   "cell_type": "code",
   "execution_count": 29,
   "id": "75bccbd6-e2be-480b-af5f-516a769a73d8",
   "metadata": {},
   "outputs": [
    {
     "name": "stdout",
     "output_type": "stream",
     "text": [
      "tensor([[0., 1.],\n",
      "        [2., 3.],\n",
      "        [4., 5.],\n",
      "        [6., 7.],\n",
      "        [8., 9.]])\n",
      "tensor([[0., 1., 2., 3., 4.],\n",
      "        [5., 6., 7., 8., 9.]])\n",
      "tensor([[[0., 1., 2., 3., 4.],\n",
      "         [5., 6., 7., 8., 9.]]])\n"
     ]
    }
   ],
   "source": [
    "t=np.array([0,1,2,3,4,5,6,7,8,9])\n",
    "ft=torch.FloatTensor(t)\n",
    "print(ft.view(([-1,2]))) ##-1은 끝까지를 의미; -1,2는 2개 가로축을 가지고, 나머지 자동으로 5행을 맞춰줌\n",
    "print(ft.view([-1,5]))  ##5개 가로 값 가짐->2개의 열\n",
    "print(ft.view([-1,2,5])) ##2개의 행, 각각의 행이 가진 값 수는 1개"
   ]
  },
  {
   "cell_type": "code",
   "execution_count": 24,
   "id": "8160924b-f086-497c-bc97-21414b4ccd67",
   "metadata": {},
   "outputs": [
    {
     "name": "stdout",
     "output_type": "stream",
     "text": [
      "[0. 1. 2. 3. 4. 5. 6.]\n"
     ]
    }
   ],
   "source": [
    "import numpy as np\n",
    "import torch\n",
    "\n",
    "t=np.array([0., 1., 2., 3., 4., 5., 6.])\n",
    "print(t)"
   ]
  },
  {
   "cell_type": "code",
   "execution_count": 34,
   "id": "2259a4d3-2320-4b0b-8825-00b8665b4205",
   "metadata": {},
   "outputs": [
    {
     "name": "stdout",
     "output_type": "stream",
     "text": [
      "tensor([[1.],\n",
      "        [2.],\n",
      "        [3.]])\n",
      "tensor([1., 2., 3.])\n"
     ]
    }
   ],
   "source": [
    "##squuze함수는 [n,m]에서 m이 \"1일 때\" 크기 조정해서 m을 없애버림\n",
    "ft=torch.FloatTensor([[1],[2],[3]]) ##3x1 크기\n",
    "print(ft)\n",
    "print(ft.squeeze()) ##1x3으로 바꿈(3)으로만 표기"
   ]
  },
  {
   "cell_type": "code",
   "execution_count": 38,
   "id": "286563ec-dbbe-42b4-8998-58d6b30a7989",
   "metadata": {},
   "outputs": [
    {
     "name": "stdout",
     "output_type": "stream",
     "text": [
      "tensor([[[1.],\n",
      "         [2.],\n",
      "         [3.]]])\n",
      "tensor([[[1.]],\n",
      "\n",
      "        [[2.]],\n",
      "\n",
      "        [[3.]]])\n"
     ]
    }
   ],
   "source": [
    "print(ft.unsqueeze(0)) ##squueze 했던 것을 다시 복귀 (3)이면 1x3형으로 dim=0 처리\n",
    "print(ft.unsqueeze(1)) ##3x1형으로 dim=1 처리"
   ]
  },
  {
   "cell_type": "code",
   "execution_count": 40,
   "id": "84c53f1e-b834-416d-b79a-1c7009fb0cc6",
   "metadata": {},
   "outputs": [
    {
     "name": "stdout",
     "output_type": "stream",
     "text": [
      "tensor([1., 2., 3.])\n",
      "tensor([1., 0., 1., 0.])\n",
      "tensor([1, 0, 1, 0])\n"
     ]
    }
   ],
   "source": [
    "##값 타입 바꿔주기\n",
    "## LongTensor, ByteTensor([True, False]) 등이 존재\n",
    "##t.float(), t.long()처럼 형식 변환 가능\n",
    "\n",
    "a=torch.LongTensor([1,2,3])\n",
    "print(a.float())\n",
    "\n",
    "b=torch.ByteTensor([True, False, True, False])\n",
    "print(b.float())\n",
    "print(b.long())"
   ]
  },
  {
   "cell_type": "code",
   "execution_count": 44,
   "id": "b4a46458-f9bf-49c9-bf01-5d9761686c7f",
   "metadata": {},
   "outputs": [
    {
     "name": "stdout",
     "output_type": "stream",
     "text": [
      "tensor([[1, 2],\n",
      "        [3, 4],\n",
      "        [5, 6],\n",
      "        [7, 8]])\n",
      "tensor([[1, 2, 5, 6],\n",
      "        [3, 4, 7, 8]])\n"
     ]
    }
   ],
   "source": [
    "##c언어에서 strcat처럼 cat은 두 배열 합치는데 사용함\n",
    "\n",
    "x=torch.LongTensor([[1,2],[3,4]])\n",
    "y=torch.LongTensor([[5,6],[7,8]])\n",
    "\n",
    "print(torch.cat([x,y],dim=0)) ##각 []를 부수지 않고 쭉 이어붙임\n",
    "print(torch.cat([x,y],dim=1)) ##각 []를 부수고 각 행에 맞는 값을 하나의 []로 묶어버림"
   ]
  },
  {
   "cell_type": "code",
   "execution_count": 50,
   "id": "1b020de9-7233-432b-883b-c3978079b168",
   "metadata": {},
   "outputs": [
    {
     "name": "stdout",
     "output_type": "stream",
     "text": [
      "tensor([[1, 2],\n",
      "        [3, 4],\n",
      "        [5, 6]])\n",
      "tensor([[1, 3, 5],\n",
      "        [2, 4, 6]])\n",
      "tensor([[1, 2],\n",
      "        [3, 4],\n",
      "        [5, 6]])\n"
     ]
    }
   ],
   "source": [
    "##스택은 말 그래도 쌓는 것을 의미 위의 cat과 비슷함\n",
    "\n",
    "x=torch.LongTensor([1,2])\n",
    "y=torch.LongTensor([3,4])\n",
    "z=torch.LongTensor([5,6])\n",
    "\n",
    "print(torch.stack([x,y,z])) ##블록 쌓듯이 포개버림\n",
    "print(torch.stack([x,y,z], dim=1)) ##위와 비슷(각 행에 맞는 값 하나로)\n",
    "\n",
    "##아래 코드와 동일하다\n",
    "##unsqueeze 통해 1x2 배열로 다시 돌려놓음\n",
    "print(torch.cat([x.unsqueeze(0),y.unsqueeze(0),z.unsqueeze(0)],dim=0)) ##unsqueeze 안할시 1x6 배열 되버림\n"
   ]
  },
  {
   "cell_type": "code",
   "execution_count": 51,
   "id": "82147852-e8b5-41d7-9628-c48cf5852bc3",
   "metadata": {},
   "outputs": [
    {
     "name": "stdout",
     "output_type": "stream",
     "text": [
      "tensor([[1, 1, 1],\n",
      "        [1, 1, 1]])\n",
      "tensor([[0, 0, 0],\n",
      "        [0, 0, 0]])\n"
     ]
    }
   ],
   "source": [
    "x=torch.LongTensor([[2,3,4],[6,7,8]])\n",
    "print(torch.ones_like(x))\n",
    "print(torch.zeros_like(x)) ##모든 값 묵살 후 1 혹은 0으로 초기화"
   ]
  },
  {
   "cell_type": "code",
   "execution_count": 52,
   "id": "b4dda92b-8e17-42a6-b959-416b9eaab712",
   "metadata": {},
   "outputs": [
    {
     "name": "stdout",
     "output_type": "stream",
     "text": [
      "tensor([[2, 4],\n",
      "        [6, 8]])\n",
      "tensor([[2, 4],\n",
      "        [6, 8]])\n",
      "tensor([[2, 4],\n",
      "        [6, 8]])\n"
     ]
    }
   ],
   "source": [
    "x=torch.LongTensor([[1,2],[3,4]])\n",
    "\n",
    "print(x.mul(2)) ##곱셈 계산 \n",
    "print(x) \n",
    "print(x.mul_(2)) ##곱셈 계산 후 기존 값 덮어 씌우기\n",
    "print(x)"
   ]
  },
  {
   "cell_type": "code",
   "execution_count": null,
   "id": "40e05edc-be27-4d45-a766-8b65dc11d503",
   "metadata": {},
   "outputs": [],
   "source": []
  }
 ],
 "metadata": {
  "kernelspec": {
   "display_name": "Python 3 (ipykernel)",
   "language": "python",
   "name": "python3"
  },
  "language_info": {
   "codemirror_mode": {
    "name": "ipython",
    "version": 3
   },
   "file_extension": ".py",
   "mimetype": "text/x-python",
   "name": "python",
   "nbconvert_exporter": "python",
   "pygments_lexer": "ipython3",
   "version": "3.12.4"
  }
 },
 "nbformat": 4,
 "nbformat_minor": 5
}

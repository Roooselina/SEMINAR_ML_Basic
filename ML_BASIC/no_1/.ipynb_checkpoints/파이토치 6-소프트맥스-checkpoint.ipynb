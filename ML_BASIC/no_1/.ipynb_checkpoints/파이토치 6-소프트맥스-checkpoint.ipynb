{
 "cells": [
  {
   "cell_type": "code",
   "execution_count": 2,
   "id": "80642003-e278-44b5-bd90-bd32e2e17f8c",
   "metadata": {},
   "outputs": [],
   "source": [
    "import torch\n",
    "import torch.nn as nn\n",
    "import torch.nn.functional as F\n",
    "import torch.optim as optim\n"
   ]
  },
  {
   "cell_type": "code",
   "execution_count": 3,
   "id": "6084a849-6041-4690-9248-395f0c86dcdc",
   "metadata": {},
   "outputs": [
    {
     "data": {
      "text/plain": [
       "<torch._C.Generator at 0x174e9b06010>"
      ]
     },
     "execution_count": 3,
     "metadata": {},
     "output_type": "execute_result"
    }
   ],
   "source": [
    "torch.manual_seed(1)"
   ]
  },
  {
   "cell_type": "code",
   "execution_count": 4,
   "id": "f5cd6e3e-71f0-4e28-9340-bf18ef5a7844",
   "metadata": {},
   "outputs": [],
   "source": [
    "## discrete probability distribution : 이산분포\n",
    "\n",
    "## 이산분포란? : 연속적인 그래프 x; 딱딱 막대그래프로 나뉘어질 수 있는 분포\n",
    "## ex) 주사위를 던졌을 때 수가 나오는 확률"
   ]
  },
  {
   "cell_type": "code",
   "execution_count": 14,
   "id": "8899d1b2-2f78-41fb-8693-ef939548e808",
   "metadata": {},
   "outputs": [
    {
     "name": "stdout",
     "output_type": "stream",
     "text": [
      "tensor([0.0900, 0.2447])\n"
     ]
    },
    {
     "data": {
      "text/plain": [
       "tensor(1.)"
      ]
     },
     "execution_count": 14,
     "metadata": {},
     "output_type": "execute_result"
    }
   ],
   "source": [
    "z = torch.FloatTensor([1,2,3])\n",
    "\n",
    "hy = F.softmax(z, dim=0) ## max 출력시 0,0,1\n",
    "print(hy) ##각각의 값이 가장 클 확률을 출력\n",
    "\n",
    "hy.sum()  ## 확률의 합은 1"
   ]
  },
  {
   "cell_type": "code",
   "execution_count": 75,
   "id": "487de9e7-775c-44de-8f32-0cb1e0954dbb",
   "metadata": {},
   "outputs": [
    {
     "name": "stdout",
     "output_type": "stream",
     "text": [
      "tensor([[0.3045, 0.0882, 0.9570, 0.5952, 0.9210],\n",
      "        [0.5327, 0.7718, 0.3404, 0.1011, 0.5803],\n",
      "        [0.4554, 0.4495, 0.2544, 0.5104, 0.6436]], requires_grad=True)\n",
      "tensor([[0.1446, 0.1165, 0.2777, 0.1934, 0.2679],\n",
      "        [0.2086, 0.2650, 0.1721, 0.1355, 0.2188],\n",
      "        [0.1970, 0.1959, 0.1612, 0.2081, 0.2378]], grad_fn=<SoftmaxBackward0>)\n",
      "tensor([3, 1, 0])\n"
     ]
    }
   ],
   "source": [
    "\n",
    "z = torch.rand(3, 5, requires_grad=True) ##크기가 3 x 5이고, 0~1까지의 값을 가짐\n",
    "print(z)\n",
    "hy = F.softmax(z, dim=1)\n",
    "print(hy)\n",
    "\n",
    "y = torch.randint(5, (3,)) ## 0~4 범위를 가지는 / 3개의 요소 생성\n",
    "print(y) ## softmax는 0~1까지의 값에서만 사용 가능해서 얘는 사용 불가 <- 생성 이유: 위 z의 정답\n"
   ]
  },
  {
   "cell_type": "code",
   "execution_count": 78,
   "id": "52acce9f-99b3-4ad3-96c7-ee705d8add95",
   "metadata": {},
   "outputs": [
    {
     "name": "stdout",
     "output_type": "stream",
     "text": [
      "tensor(1.5319, grad_fn=<MeanBackward0>)\n"
     ]
    }
   ],
   "source": [
    "yo = torch.zeros_like(hy)\n",
    "yo.scatter_(1, y.unsqueeze(1), 1) ##위에서 y의 값이 1 x 3 이므로, 3 x 1로 잘 고쳐줌\n",
    "\n",
    "## 결과값: 각각 정답의 위치가 1로 표시; 아닌 것을 0으로 표시\n",
    "cost = (yo * -torch.log(hy)).sum(dim=1).mean() ## 3 x 5의 데이터에서 3 x 1 값만을 남기고, 그 평균을 구함\n",
    "\n",
    "## cost값은 크로스 엔트로피 확률;\n",
    "print(cost)\n"
   ]
  },
  {
   "cell_type": "code",
   "execution_count": 79,
   "id": "4b1bbc71-7002-472d-b510-105784ac18a6",
   "metadata": {},
   "outputs": [
    {
     "name": "stdout",
     "output_type": "stream",
     "text": [
      "tensor(1.5319, grad_fn=<NllLossBackward0>)\n"
     ]
    }
   ],
   "source": [
    "\n",
    "cost = F.cross_entropy(z, y) ## 3 x 5의 데이터에서 3 x 1 값만을 남기고, 그 평균을 구함\n",
    "\n",
    "## cost값은 크로스 엔트로피 확률;\n",
    "print(cost)\n"
   ]
  },
  {
   "cell_type": "code",
   "execution_count": 80,
   "id": "7deb0dd0-7682-48c1-8068-9f4d65b9b610",
   "metadata": {},
   "outputs": [
    {
     "data": {
      "text/plain": [
       "tensor(1.5319, grad_fn=<NllLossBackward0>)"
      ]
     },
     "execution_count": 80,
     "metadata": {},
     "output_type": "execute_result"
    }
   ],
   "source": [
    "## cost값은 크로스 엔트로피 확률;\n",
    "F.nll_loss(F.log_softmax(z, dim=1), y)"
   ]
  },
  {
   "cell_type": "code",
   "execution_count": 81,
   "id": "ecde1de8-5b0e-4afd-8c25-fdb2b3b6931e",
   "metadata": {},
   "outputs": [],
   "source": [
    "## -torch.log(F.softmax)를 F.log_softmax로 변경 가능"
   ]
  },
  {
   "cell_type": "code",
   "execution_count": 102,
   "id": "e1af9ab5-fa6e-43c7-949a-e40c3c5cce5c",
   "metadata": {},
   "outputs": [
    {
     "name": "stdout",
     "output_type": "stream",
     "text": [
      "Epoch [0/10000], Cost: 1.098612\n",
      "Epoch [1000/10000], Cost: 0.624946\n",
      "Epoch [2000/10000], Cost: 0.522429\n",
      "Epoch [3000/10000], Cost: 0.431404\n",
      "Epoch [4000/10000], Cost: 0.346582\n",
      "Epoch [5000/10000], Cost: 0.302194\n",
      "Epoch [6000/10000], Cost: 0.287098\n",
      "Epoch [7000/10000], Cost: 0.274960\n",
      "Epoch [8000/10000], Cost: 0.265011\n",
      "Epoch [9000/10000], Cost: 0.256728\n"
     ]
    }
   ],
   "source": [
    "import torch\n",
    "import torch.optim as optim\n",
    "import torch.nn.functional as F\n",
    "\n",
    "x_train = [[1,2,1,1],\n",
    "          [2,1,3,2],\n",
    "          [3,1,3,4],\n",
    "          [4,1,5,5],\n",
    "          [1,7,5,5],\n",
    "          [1,2,6,6],\n",
    "          [1,2,6,6],\n",
    "          [1,7,7,7]]\n",
    "y_train = [2,2,2,1,1,1,0,0]\n",
    "x = torch.FloatTensor(x_train)\n",
    "y = torch.LongTensor(y_train)\n",
    "\n",
    "\n",
    "\n",
    "   "
   ]
  },
  {
   "cell_type": "code",
   "execution_count": 118,
   "id": "0f7473e6-4644-44db-9cac-240f84f1d5ed",
   "metadata": {},
   "outputs": [],
   "source": [
    "w = torch.zeros((4,3), requires_grad=True)\n",
    "b = torch.zeros(1, requires_grad=True)\n",
    "\n",
    "## w는 x의 각각 4개의 값마다 1개의 y데이터가 나오기 때문에 4,3이다(y가지가 2,1,0 3가지)\n",
    "## b는 그냥 동떨어진 변수라 1이다."
   ]
  },
  {
   "cell_type": "code",
   "execution_count": 119,
   "id": "187b2471-2863-4d92-be25-b6d38376af3a",
   "metadata": {},
   "outputs": [
    {
     "name": "stdout",
     "output_type": "stream",
     "text": [
      "Epoch [0/10000], Cost: 1.098612\n",
      "Epoch [1000/10000], Cost: 0.624946\n",
      "Epoch [2000/10000], Cost: 0.522429\n",
      "Epoch [3000/10000], Cost: 0.431404\n",
      "Epoch [4000/10000], Cost: 0.346582\n",
      "Epoch [5000/10000], Cost: 0.302194\n",
      "Epoch [6000/10000], Cost: 0.287098\n",
      "Epoch [7000/10000], Cost: 0.274960\n",
      "Epoch [8000/10000], Cost: 0.265011\n",
      "Epoch [9000/10000], Cost: 0.256728\n"
     ]
    }
   ],
   "source": [
    "optimizer = optim.SGD([w,b], lr=0.1)\n",
    "\n",
    "epoch = 10000\n",
    "for e in range(epoch):\n",
    "    hy = F.softmax(x.matmul(w) + b, dim=1) ##각각의 열에 대해 softmax값을 구한다. 이때 w x b + b 형에 대한 값을 구한다.\n",
    "    \n",
    "    cost = F.cross_entropy(x.matmul(w) + b, y)  ##마찬가지로 위의 식에 대한 cost값을 구한다. 이 때 비교값은 y이다.\n",
    "    optimizer.zero_grad()\n",
    "    cost.backward()\n",
    "    optimizer.step()\n",
    "\n",
    "    if e % 1000 == 0:\n",
    "        print('Epoch [{}/{}], Cost: {:.6f}'.format(e, epoch, cost.item()))\n"
   ]
  },
  {
   "cell_type": "code",
   "execution_count": null,
   "id": "7d991664-d2a0-4836-a03b-cdf0c5fd804c",
   "metadata": {},
   "outputs": [],
   "source": []
  }
 ],
 "metadata": {
  "kernelspec": {
   "display_name": "Python 3 (ipykernel)",
   "language": "python",
   "name": "python3"
  },
  "language_info": {
   "codemirror_mode": {
    "name": "ipython",
    "version": 3
   },
   "file_extension": ".py",
   "mimetype": "text/x-python",
   "name": "python",
   "nbconvert_exporter": "python",
   "pygments_lexer": "ipython3",
   "version": "3.11.5"
  }
 },
 "nbformat": 4,
 "nbformat_minor": 5
}

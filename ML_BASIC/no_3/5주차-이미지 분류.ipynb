{
 "cells": [
  {
   "cell_type": "code",
   "execution_count": 42,
   "id": "50a5fdec-c21f-44b9-b20e-2b7f4cefaff6",
   "metadata": {},
   "outputs": [],
   "source": [
    "import os\n",
    "import cv2\n",
    "import numpy as np\n",
    "import matplotlib.pyplot as plt\n",
    "import torch.nn as nn\n",
    "import torch.nn.functional as F\n",
    "from torch.utils.data import DataLoader, Dataset\n",
    "import torch\n"
   ]
  },
  {
   "cell_type": "code",
   "execution_count": 43,
   "id": "9881cbf5-f881-4347-abe9-585788ec8c6a",
   "metadata": {},
   "outputs": [
    {
     "name": "stdout",
     "output_type": "stream",
     "text": [
      "cuda\n"
     ]
    }
   ],
   "source": [
    "device = 'cuda' if torch.cuda.is_available() else 'cpu'\n",
    "\n",
    "torch.manual_seed(777)\n",
    "if device =='cuda':\n",
    "    torch.cuda.manual_seed_all(777)\n",
    "\n",
    "print(device)\n",
    "\n",
    "##현재 데이터는 directory_path에 0~9까지의 숫자가 각가 10개씩 저장되어 있다.\n",
    "##이를 label, 이미지로 저장해보도록 하겠다.\n"
   ]
  },
  {
   "cell_type": "code",
   "execution_count": 44,
   "id": "fdaabd41-01c3-4417-8ecc-45620f41984a",
   "metadata": {},
   "outputs": [
    {
     "name": "stdout",
     "output_type": "stream",
     "text": [
      "510\n"
     ]
    }
   ],
   "source": [
    "directory_path = r'C:\\\\Users\\\\kuroc\\\\Documents\\\\no_1\\\\num data\\\\train'\n",
    "\n",
    "# 데이터셋 초기화; 이미지:라벨로 저장\n",
    "data = {'images': [], 'labels': []}\n",
    "\n",
    "# 디렉토리 내의 모든 파일 목록 얻기\n",
    "file_list = os.listdir(directory_path)\n",
    "\n",
    "print(len(file_list))\n",
    "\n",
    "##문제 없이 파일 출력 완료\n"
   ]
  },
  {
   "cell_type": "code",
   "execution_count": 45,
   "id": "59971f93-4d3c-49a4-8fa9-b294f2be79ef",
   "metadata": {},
   "outputs": [],
   "source": [
    "# 디렉토리 내의 각 이미지에 대해 반복\n",
    "for file_name in file_list:\n",
    "    img_path = os.path.join(directory_path, file_name)\n",
    "    img_array=np.fromfile(img_path, np.uint8)\n",
    "    img = cv2.imdecode(img_array, cv2.IMREAD_COLOR)\n",
    "    # 이미지를 읽어오기\n",
    "    img = cv2.imread(img_path, cv2.IMREAD_GRAYSCALE)\n",
    "\n",
    "    # 이미지 파일 이름에서 숫자 정보 추출\n",
    "    ''' 이미지 형식은 \"해당 숫자_순번\"형식이다. 따라서 _를 기준으로 숫자를 분리한다.\n",
    "        앞 숫자가 label이다. 글자로 취급되기 때문에 이를 int형으로 바꾼다 '''\n",
    "    \n",
    "    label = int(file_name.split('_')[0])\n",
    "\n",
    "    # 이미지와 레이블을 데이터셋에 추가\n",
    "    data['images'].append(img)\n",
    "    data['labels'].append(label)"
   ]
  },
  {
   "cell_type": "code",
   "execution_count": 46,
   "id": "43a8ab8a-cf5b-403d-8d9f-8fc63a5affa8",
   "metadata": {},
   "outputs": [
    {
     "name": "stdout",
     "output_type": "stream",
     "text": [
      "Images shape: (510, 28, 28)\n",
      "Labels shape: (510,)\n"
     ]
    },
    {
     "data": {
      "image/png": "[encoded data removed]",
      "text/plain": [
       "<Figure size 800x800 with 25 Axes>"
      ]
     },
     "metadata": {},
     "output_type": "display_data"
    }
   ],
   "source": [
    "# NumPy 배열로 변환\n",
    "data['images'] = np.array(data['images'])\n",
    "data['labels'] = np.array(data['labels'])\n",
    "\n",
    "## image는 이미 0, 255 형태로 전처리 되어 있다.\n",
    "## x_train, y_train을 만들기 위해 array형식으로 바꿔준다.\n",
    "\n",
    "# 데이터셋의 형태 확인\n",
    "print(\"Images shape:\", data['images'].shape)\n",
    "print(\"Labels shape:\", data['labels'].shape)\n",
    "\n",
    "##이미지도, 라벨도 100개가 잘 저장 된 것을 볼 수 있다.\n",
    "\n",
    "plt.figure(figsize=(8, 8))\n",
    "for i in range(1, 26):\n",
    "    plt.subplot(5, 5, i)\n",
    "    plt.imshow(data['images'][i], 'gray')\n",
    "    plt.axis('off')\n",
    "plt.show()\n",
    "\n",
    "##이미지가 잘 저장되었다."
   ]
  },
  {
   "cell_type": "code",
   "execution_count": 47,
   "id": "46ae7f4b-f984-45b8-8649-8cdf64eadf69",
   "metadata": {},
   "outputs": [
    {
     "name": "stdout",
     "output_type": "stream",
     "text": [
      "['1.png', '2.png', '3.png', '4.png', '5.png', '6.png', '7.png', '8.png', '9.png']\n"
     ]
    }
   ],
   "source": [
    "directory_te = r'C:\\Users\\kuroc\\Documents\\no_1\\num data\\test'\n",
    "\n",
    "# 데이터셋 초기화; 이미지:라벨로 저장\n",
    "data2 = {'images': [], 'labels': []}\n",
    "\n",
    "# 디렉토리 내의 모든 파일 목록 얻기\n",
    "file_list = os.listdir(directory_te)\n",
    "\n",
    "print(file_list)\n",
    "\n",
    "# 디렉토리 내의 각 이미지에 대해 반복\n",
    "for i, file_name in enumerate(file_list):\n",
    "    img_path = os.path.join(directory_te, file_name)\n",
    "\n",
    "    # 이미지를 흑백으로 읽어오기\n",
    "    img = cv2.imread(img_path, cv2.IMREAD_GRAYSCALE)\n",
    "        \n",
    "    # 이미지 파일 이름에서 숫자 정보 추출\n",
    "    label = int(file_name.split('.')[0])\n",
    "\n",
    "    # 이미지와 레이블을 데이터셋에 추가\n",
    "    data2['images'].append(img)\n",
    "    data2['labels'].append(label)\n"
   ]
  },
  {
   "cell_type": "code",
   "execution_count": 48,
   "id": "2b2f82af-6050-425d-aac2-b93ef450d3a3",
   "metadata": {},
   "outputs": [
    {
     "name": "stdout",
     "output_type": "stream",
     "text": [
      "['1.png', '2.png', '3.png', '4.png', '5.png', '6.png', '7.png', '8.png', '9.png']\n"
     ]
    }
   ],
   "source": [
    "directory_te = r'C:\\Users\\kuroc\\Documents\\no_1\\num data\\test'\n",
    "\n",
    "# 데이터셋 초기화; 이미지:라벨로 저장\n",
    "data2 = {'images': [], 'labels': []}\n",
    "\n",
    "# 디렉토리 내의 모든 파일 목록 얻기\n",
    "file_list = os.listdir(directory_te)\n",
    "\n",
    "print(file_list)\n",
    "\n",
    "# 디렉토리 내의 각 이미지에 대해 반복\n",
    "for i, file_name in enumerate(file_list):\n",
    "    img_path = os.path.join(directory_te, file_name)\n",
    "\n",
    "    # 이미지를 흑백으로 읽어오기\n",
    "    img = cv2.imread(img_path, cv2.IMREAD_GRAYSCALE)\n",
    "        \n",
    "    # 이미지 파일 이름에서 숫자 정보 추출\n",
    "    label = int(file_name.split('.')[0])\n",
    "\n",
    "    # 이미지와 레이블을 데이터셋에 추가\n",
    "    data2['images'].append(img)\n",
    "    data2['labels'].append(label)\n"
   ]
  },
  {
   "cell_type": "code",
   "execution_count": 49,
   "id": "59c8435b-6fd7-4302-ab6c-a62ed850b19c",
   "metadata": {},
   "outputs": [
    {
     "data": {
      "image/png": "[encoded data removed]",
      "text/plain": [
       "<Figure size 400x400 with 9 Axes>"
      ]
     },
     "metadata": {},
     "output_type": "display_data"
    }
   ],
   "source": [
    "plt.figure(figsize=(4, 4))\n",
    "for i in range(1, 10):\n",
    "    plt.subplot(3, 3, i)\n",
    "    plt.imshow(data2['images'][i - 1], 'gray')  # 인덱스는 0부터 시작하므로 i - 1\n",
    "    plt.axis('off')\n",
    "plt.show()"
   ]
  },
  {
   "cell_type": "code",
   "execution_count": 50,
   "id": "aa45151f-0a0e-4d78-9908-65fffc6293b8",
   "metadata": {},
   "outputs": [],
   "source": [
    "class CNN(nn.Module):\n",
    "    def __init__(self):\n",
    "        super(CNN, self).__init__()\n",
    "        self.linear1 = nn.Sequential(\n",
    "            nn.Conv2d(1, 32, kernel_size=3, stride=1, padding=1),\n",
    "            nn.ReLU(),\n",
    "            nn.MaxPool2d(2)\n",
    "        )\n",
    "        self.linear2 = nn.Sequential(\n",
    "            nn.Conv2d(32, 64, kernel_size=3, stride=1, padding=1),\n",
    "            nn.ReLU(),\n",
    "            nn.MaxPool2d(2)\n",
    "        )\n",
    "        self.linear3 = nn.Sequential(\n",
    "            nn.Conv2d(64, 128, kernel_size=3, stride=1, padding=1),\n",
    "            nn.ReLU(),\n",
    "            nn.MaxPool2d(2)\n",
    "        )\n",
    "        self.fc1 = nn.Linear(3 * 3 * 128, 625)\n",
    "        self.relu = nn.ReLU()\n",
    "        self.fc2 = nn.Linear(625, 10, bias=True)\n",
    "        torch.nn.init.xavier_uniform_(self.fc1.weight)\n",
    "        torch.nn.init.xavier_uniform_(self.fc2.weight)\n",
    "\n",
    "    def forward(self, x):\n",
    "        out = self.linear1(x)\n",
    "        out = self.linear2(out)\n",
    "        out = self.linear3(out)\n",
    "        out = out.view(out.size(0), -1)\n",
    "        out = self.fc1(out)\n",
    "        out = self.relu(out)\n",
    "        out = self.fc2(out)\n",
    "        return out\n"
   ]
  },
  {
   "cell_type": "code",
   "execution_count": 51,
   "id": "ac1c5ac7-f1f1-4df7-a8ef-c64055c8205d",
   "metadata": {},
   "outputs": [],
   "source": [
    "## 데이터 전처리 클래스\n",
    "class CustomDataset(nn.Module):\n",
    "    def __init__(self, data, transform=None):\n",
    "        self.images = data['images']\n",
    "        self.labels = data['labels']\n",
    "        self.transform = transform\n",
    "\n",
    "    def __len__(self):\n",
    "        return len(self.images)\n",
    "\n",
    "    def __getitem__(self, idx):\n",
    "        image = self.images[idx]\n",
    "        label = self.labels[idx]\n",
    "\n",
    "        # Apply the specified transformations to the image\n",
    "        if self.transform:\n",
    "            image = self.transform(image)\n",
    "        image = image.flatten()\n",
    "        # Convert image and label to PyTorch Tensor\n",
    "        image = torch.tensor(image, dtype=torch.float32)\n",
    "        label = torch.tensor(label, dtype=torch.long)\n",
    "\n",
    "        return image, label"
   ]
  },
  {
   "cell_type": "code",
   "execution_count": 52,
   "id": "8bda5b6b-6421-4372-904a-6842f530d38c",
   "metadata": {},
   "outputs": [],
   "source": [
    "## x 모델 만들기\n",
    "model=CNN().to(device)\n",
    "dataset = CustomDataset(data)\n",
    "testset = CustomDataset(data2)"
   ]
  },
  {
   "cell_type": "code",
   "execution_count": 75,
   "id": "11c848b7-7706-4431-8ea2-bb5eeb992c95",
   "metadata": {},
   "outputs": [
    {
     "name": "stdout",
     "output_type": "stream",
     "text": [
      "cost[1] :0.02986653142618202\n",
      "cost[2] :0.0010879617611354404\n",
      "cost[3] :0.00022024060164363958\n",
      "cost[4] :0.00017533114440177106\n",
      "cost[5] :0.00014902033713932596\n",
      "cost[6] :0.00013103345436770534\n",
      "cost[7] :0.00011762895745490328\n",
      "cost[8] :0.0001071058964559963\n",
      "cost[9] :9.85591203945769e-05\n",
      "cost[10] :9.147499654959263e-05\n",
      "cost[11] :8.547660297863632e-05\n",
      "cost[12] :8.029470663446678e-05\n",
      "cost[13] :7.578513095469317e-05\n",
      "cost[14] :7.18267766189749e-05\n",
      "cost[15] :6.830574276001894e-05\n",
      "cost[16] :6.515130944616292e-05\n",
      "cost[17] :6.23107293109078e-05\n",
      "cost[18] :5.9730996108419164e-05\n",
      "cost[19] :5.737896380207484e-05\n",
      "cost[20] :5.5219373192212025e-05\n",
      "학습종료\n"
     ]
    }
   ],
   "source": [
    "total = len(dataset)\n",
    "\n",
    "epoch = 20\n",
    "\n",
    "optimizer = torch.optim.SGD(model.parameters(), lr=0.001)\n",
    "criterion = nn.CrossEntropyLoss()\n",
    "\n",
    "for e in range(epoch):\n",
    "    total_cost = 0  # 새로운 변수로 변경\n",
    "    for x, y in dataset:\n",
    "        x = x.view(-1, 1, 28, 28)\n",
    "        \n",
    "        x = x.to(device)\n",
    "        y = y.to(device)\n",
    "        y = torch.tensor([y]).to(device)\n",
    "\n",
    "        optimizer.zero_grad()\n",
    "        hy = model(x)\n",
    "        cost = criterion(hy, y)\n",
    "        \n",
    "        cost.backward()\n",
    "        optimizer.step()\n",
    "\n",
    "        total_cost += cost.item()\n",
    "    print(\"cost[{}] :{}\".format(e + 1, total_cost / total))\n",
    "\n",
    "print(\"학습종료\")\n"
   ]
  },
  {
   "cell_type": "code",
   "execution_count": 85,
   "id": "177d6c75-6a52-4fe7-a0a7-5fcd3c6f5dde",
   "metadata": {},
   "outputs": [
    {
     "name": "stdout",
     "output_type": "stream",
     "text": [
      "Test Accuracy: 18.50%\n"
     ]
    }
   ],
   "source": [
    "# 'PATH' 변수 선언\n",
    "PATH = 'C:\\\\Users\\\\kuroc\\\\Documents\\\\no_1\\\\num_data.pth'\n",
    "\n",
    "# 모델의 상태 사전을 저장\n",
    "torch.save(model.state_dict(), PATH)\n",
    "\n",
    "\n",
    "# 정확도\n",
    "for x, y in testset:\n",
    "    x = x.view(-1, 1, 28, 28)\n",
    "    x = x.to(device)\n",
    "    y = y.to(device)\n",
    "    \n",
    "    outputs = model(x)\n",
    "    _, predicted = torch.max(outputs.data, 1)\n",
    "    \n",
    "    total += 1\n",
    "    correct += (predicted == y).sum().item()  # 'labels' 대신 'y'를 사용\n",
    "\n",
    "accuracy = correct / total\n",
    "print('Test Accuracy: {:.2%}'.format(accuracy))\n"
   ]
  }
 ],
 "metadata": {
  "kernelspec": {
   "display_name": "Python 3 (ipykernel)",
   "language": "python",
   "name": "python3"
  },
  "language_info": {
   "codemirror_mode": {
    "name": "ipython",
    "version": 3
   },
   "file_extension": ".py",
   "mimetype": "text/x-python",
   "name": "python",
   "nbconvert_exporter": "python",
   "pygments_lexer": "ipython3",
   "version": "3.11.5"
  }
 },
 "nbformat": 4,
 "nbformat_minor": 5
}

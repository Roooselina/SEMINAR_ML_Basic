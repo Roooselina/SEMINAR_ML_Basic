{
 "cells": [
  {
   "cell_type": "code",
   "execution_count": 54,
   "id": "736ded82-aa29-4e9b-a659-90dbee562072",
   "metadata": {},
   "outputs": [],
   "source": [
    "import torch\n",
    "import torch.nn as nn\n",
    "import torchvision.datasets as dsets\n",
    "import torchvision.transforms as transforms\n",
    "from torch.utils.data import DataLoader\n",
    "\n",
    "import torch.nn.init"
   ]
  },
  {
   "cell_type": "code",
   "execution_count": 55,
   "id": "4e061985-2570-40b0-bf77-667bda118e92",
   "metadata": {},
   "outputs": [],
   "source": [
    "import visdom"
   ]
  },
  {
   "cell_type": "code",
   "execution_count": 56,
   "id": "a74b6e77-9313-4a98-9663-b9effc96c353",
   "metadata": {},
   "outputs": [
    {
     "name": "stderr",
     "output_type": "stream",
     "text": [
      "Setting up a new session...\n"
     ]
    },
    {
     "data": {
      "text/plain": [
       "''"
      ]
     },
     "execution_count": 56,
     "metadata": {},
     "output_type": "execute_result"
    }
   ],
   "source": [
    "vis = visdom.Visdom()\n",
    "vis.close(env = \"main\")"
   ]
  },
  {
   "cell_type": "code",
   "execution_count": 57,
   "id": "affa0349-83fd-4b9c-87bc-fb865ca3ffbd",
   "metadata": {},
   "outputs": [],
   "source": [
    "def loss_tracker(loss_plot, loss_value, num):\n",
    "    vis.line(\n",
    "        Y=torch.Tensor([loss_value]),\n",
    "        X=torch.Tensor([num]),\n",
    "        win=loss_plot,\n",
    "        update='append'\n",
    "    )\n"
   ]
  },
  {
   "cell_type": "code",
   "execution_count": 58,
   "id": "6b87b535-8fe2-4c1f-a207-f046f99b4139",
   "metadata": {},
   "outputs": [
    {
     "name": "stdout",
     "output_type": "stream",
     "text": [
      "cuda\n"
     ]
    }
   ],
   "source": [
    "device = 'cuda' if torch.cuda.is_available() else 'cpu'\n",
    "\n",
    "torch.manual_seed(777)\n",
    "if device == 'cuda':\n",
    "    torch.cuda.manual_seed_all(777)\n",
    "\n",
    "\n",
    "print(device)"
   ]
  },
  {
   "cell_type": "code",
   "execution_count": 59,
   "id": "42d92070-5d88-428d-90be-a286ad1a593c",
   "metadata": {},
   "outputs": [],
   "source": [
    "rate=0.001\n",
    "epoch=15\n",
    "size = 32"
   ]
  },
  {
   "cell_type": "code",
   "execution_count": 60,
   "id": "28bbf9d9-5591-47d7-9c2c-ad785cc2c509",
   "metadata": {},
   "outputs": [],
   "source": [
    "mnist_train = dsets.MNIST(root='MNIST_data/',\n",
    "                          train=True,\n",
    "                          transform=transforms.ToTensor(),\n",
    "                          download=True)\n",
    "\n",
    "mnist_test = dsets.MNIST(root='MNIST_data/',\n",
    "                         train=False,\n",
    "                         transform=transforms.ToTensor(),\n",
    "                         download=True)"
   ]
  },
  {
   "cell_type": "code",
   "execution_count": 47,
   "id": "fbb31b9a-c1ae-4d1d-8bd7-630f3431f322",
   "metadata": {},
   "outputs": [],
   "source": [
    "train_dataloader = torch.utils.data.DataLoader(\n",
    "                                    dataset=mnist_train,\n",
    "                                    batch_size=size,\n",
    "                                    shuffle=True,\n",
    "                                    drop_last=True)\n",
    "\n",
    "test_dataloader = torch.utils.data.DataLoader(\n",
    "                                    dataset=mnist_train,\n",
    "                                    batch_size=size,\n",
    "                                    shuffle=False,\n",
    "                                    drop_last=True)"
   ]
  },
  {
   "cell_type": "code",
   "execution_count": 48,
   "id": "2ef97384-6fa0-4ef4-8442-4d5be87d7ac2",
   "metadata": {},
   "outputs": [],
   "source": [
    "import torch\n",
    "import torch.nn as nn\n",
    "\n",
    "class CNN(nn.Module):\n",
    "    def __init__(self):\n",
    "        super(CNN, self).__init__()\n",
    "        self.linear1 = nn.Sequential(\n",
    "            nn.Conv2d(1, 32, kernel_size=3, stride=1, padding=1),\n",
    "            nn.ReLU(),\n",
    "            nn.MaxPool2d(2)\n",
    "        )\n",
    "        self.linear2 = nn.Sequential(\n",
    "            nn.Conv2d(32, 64, kernel_size=3, stride=1, padding=1),\n",
    "            nn.ReLU(),\n",
    "            nn.MaxPool2d(2)\n",
    "        )\n",
    "        self.linear3 = nn.Sequential(\n",
    "            nn.Conv2d(64, 128, kernel_size=3, stride=1, padding=1),\n",
    "            nn.ReLU(),\n",
    "            nn.MaxPool2d(2)\n",
    "        )\n",
    "        self.fc1 = nn.Linear(3 * 3 * 128, 625)\n",
    "        self.relu = nn.ReLU()\n",
    "        self.fc2 = nn.Linear(625, 10, bias=True)\n",
    "        torch.nn.init.xavier_uniform_(self.fc1.weight)\n",
    "        torch.nn.init.xavier_uniform_(self.fc2.weight)\n",
    "\n",
    "    def forward(self, x):\n",
    "        out = self.linear1(x)\n",
    "        out = self.linear2(out)\n",
    "        out = self.linear3(out)\n",
    "        out = out.view(out.size(0), -1)\n",
    "        out = self.fc1(out)\n",
    "        out = self.relu(out)\n",
    "        out = self.fc2(out)\n",
    "        return out\n"
   ]
  },
  {
   "cell_type": "code",
   "execution_count": 53,
   "id": "713b2b27-62ff-493b-aa9e-ddf53be7a828",
   "metadata": {},
   "outputs": [
    {
     "ename": "TypeError",
     "evalue": "'DataLoader' object is not subscriptable",
     "output_type": "error",
     "traceback": [
      "\u001b[1;31m---------------------------------------------------------------------------\u001b[0m",
      "\u001b[1;31mTypeError\u001b[0m                                 Traceback (most recent call last)",
      "Cell \u001b[1;32mIn[53], line 28\u001b[0m\n\u001b[0;32m     26\u001b[0m \u001b[38;5;66;03m## x 모델 만들기\u001b[39;00m\n\u001b[0;32m     27\u001b[0m model\u001b[38;5;241m=\u001b[39mCNN()\u001b[38;5;241m.\u001b[39mto(device)\n\u001b[1;32m---> 28\u001b[0m dataset \u001b[38;5;241m=\u001b[39m CustomDataset(train_dataloader)\n\u001b[0;32m     29\u001b[0m testset \u001b[38;5;241m=\u001b[39m CustomDataset(test_dataloader)\n",
      "Cell \u001b[1;32mIn[53], line 4\u001b[0m, in \u001b[0;36mCustomDataset.__init__\u001b[1;34m(self, data, transform)\u001b[0m\n\u001b[0;32m      3\u001b[0m \u001b[38;5;28;01mdef\u001b[39;00m \u001b[38;5;21m__init__\u001b[39m(\u001b[38;5;28mself\u001b[39m, data, transform\u001b[38;5;241m=\u001b[39m\u001b[38;5;28;01mNone\u001b[39;00m):\n\u001b[1;32m----> 4\u001b[0m     \u001b[38;5;28mself\u001b[39m\u001b[38;5;241m.\u001b[39mimages \u001b[38;5;241m=\u001b[39m data[\u001b[38;5;124m'\u001b[39m\u001b[38;5;124mimages\u001b[39m\u001b[38;5;124m'\u001b[39m]\n\u001b[0;32m      5\u001b[0m     \u001b[38;5;28mself\u001b[39m\u001b[38;5;241m.\u001b[39mlabels \u001b[38;5;241m=\u001b[39m data[\u001b[38;5;124m'\u001b[39m\u001b[38;5;124mlabels\u001b[39m\u001b[38;5;124m'\u001b[39m]\n\u001b[0;32m      6\u001b[0m     \u001b[38;5;28mself\u001b[39m\u001b[38;5;241m.\u001b[39mtransform \u001b[38;5;241m=\u001b[39m transform\n",
      "\u001b[1;31mTypeError\u001b[0m: 'DataLoader' object is not subscriptable"
     ]
    }
   ],
   "source": [
    "## 데이터 전처리 클래스\n",
    "class CustomDataset(nn.Module):\n",
    "    def __init__(self, data, transform=None):\n",
    "        self.images = data['images']\n",
    "        self.labels = data['labels']\n",
    "        self.transform = transform\n",
    "\n",
    "    def __len__(self):\n",
    "        return len(self.images)\n",
    "\n",
    "    def __getitem__(self, idx):\n",
    "        image = self.images[idx]\n",
    "        label = self.labels[idx]\n",
    "\n",
    "        # Apply the specified transformations to the image\n",
    "        if self.transform:\n",
    "            image = self.transform(image)\n",
    "        image = image.flatten()\n",
    "        # Convert image and label to PyTorch Tensor\n",
    "        image = torch.tensor(image, dtype=torch.float32)\n",
    "        label = torch.tensor(label, dtype=torch.long)\n",
    "\n",
    "        return image, label\n",
    "\n",
    "\n",
    "## x 모델 만들기\n",
    "model=CNN().to(device)\n",
    "dataset = CustomDataset(train_dataloader)\n",
    "testset = CustomDataset(test_dataloader)"
   ]
  },
  {
   "cell_type": "code",
   "execution_count": 33,
   "id": "ee46e626-9f58-4394-93f4-e409d237258c",
   "metadata": {},
   "outputs": [
    {
     "name": "stdout",
     "output_type": "stream",
     "text": [
      "torch.Size([1, 10])\n"
     ]
    }
   ],
   "source": [
    "model = CNN().to(device)\n",
    "\n",
    "value = (torch.Tensor(1,1,28,28)).to(device)\n",
    "print((model(value)).shape)\n"
   ]
  },
  {
   "cell_type": "code",
   "execution_count": 34,
   "id": "d97b9fec-6704-44fa-88ab-16403da0dc0a",
   "metadata": {},
   "outputs": [],
   "source": [
    "criterion = nn.CrossEntropyLoss().to(device)\n",
    "optimizer = torch.optim.Adam(model.parameters(), lr = rate)"
   ]
  },
  {
   "cell_type": "code",
   "execution_count": 35,
   "id": "7567cf00-c007-489b-ab86-b0616b5b704a",
   "metadata": {},
   "outputs": [],
   "source": [
    "loss = vis.line(Y=torch.Tensor(1).zero_(), opts=dict(title='Loss 변화도', legend=['loss'], showlegend=True))\n"
   ]
  },
  {
   "cell_type": "code",
   "execution_count": 36,
   "id": "d68fbef5-d6f0-4ed0-aa2e-b82109d1e4e6",
   "metadata": {},
   "outputs": [
    {
     "name": "stdout",
     "output_type": "stream",
     "text": [
      "cost[1] :0.004124307539314032\n",
      "cost[2] :0.012450212612748146\n",
      "cost[3] :0.3222811818122864\n",
      "cost[4] :0.002125527011230588\n",
      "cost[5] :0.004193825647234917\n",
      "cost[6] :5.456081999000162e-05\n",
      "cost[7] :0.029983149841427803\n",
      "cost[8] :0.001881581381894648\n",
      "cost[9] :0.006198990158736706\n",
      "cost[10] :2.705854240048211e-05\n",
      "cost[11] :0.08025290817022324\n",
      "cost[12] :0.00173280225135386\n",
      "cost[13] :0.00012140075705247\n",
      "cost[14] :0.0010602374095469713\n",
      "cost[15] :3.03216165775666e-05\n",
      "a\n"
     ]
    }
   ],
   "source": [
    "total = len(train_dataloader)\n",
    "for e in range(epoch):\n",
    "    cost = 0\n",
    "    for x,y in train_dataloader:\n",
    "        x = x.to(device)\n",
    "        y = y.to(device)\n",
    "        optimizer.zero_grad()\n",
    "        hy=model(x)\n",
    "        cost = criterion(hy,y)\n",
    "        cost.backward()\n",
    "        optimizer.step()\n",
    "        cost+=cost / total\n",
    "\n",
    "    print(\"cost[{}] :{}\".format(e+1, cost))\n",
    "    loss_tracker(loss, torch.Tensor(cost), e)\n",
    "\n",
    "print(\"a\")"
   ]
  },
  {
   "cell_type": "code",
   "execution_count": null,
   "id": "2128b323-c6a0-4879-ae88-5505a901045c",
   "metadata": {},
   "outputs": [],
   "source": []
  }
 ],
 "metadata": {
  "kernelspec": {
   "display_name": "Python 3 (ipykernel)",
   "language": "python",
   "name": "python3"
  },
  "language_info": {
   "codemirror_mode": {
    "name": "ipython",
    "version": 3
   },
   "file_extension": ".py",
   "mimetype": "text/x-python",
   "name": "python",
   "nbconvert_exporter": "python",
   "pygments_lexer": "ipython3",
   "version": "3.11.5"
  }
 },
 "nbformat": 4,
 "nbformat_minor": 5
}

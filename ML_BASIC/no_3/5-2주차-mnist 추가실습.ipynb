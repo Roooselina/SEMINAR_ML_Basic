{
 "cells": [
  {
   "cell_type": "code",
   "execution_count": 21,
   "id": "49b78207-5d28-4eda-866a-51155d01a768",
   "metadata": {},
   "outputs": [],
   "source": [
    "import os\n",
    "import cv2\n",
    "import numpy as np\n",
    "import matplotlib.pyplot as plt\n",
    "import torch.nn as nn\n",
    "import torch.nn.functional as F\n",
    "from torch.utils.data import DataLoader, Dataset\n",
    "import torch\n"
   ]
  },
  {
   "cell_type": "markdown",
   "id": "a3b307d6-4bd6-411d-b4c6-a4e8a3fb0307",
   "metadata": {},
   "source": [
    "## MNIST 데이터 처리방식\r",
    "mnist 데이터는 라벨(무슨 숫자인가)과 이미지(28*28)로 구성되어 있다.\n",
    "이 형식을 따라 내가 직접 데이터를 만들고, 이를 mnist처럼 처리해보도록 하겠다."
   ]
  },
  {
   "cell_type": "code",
   "execution_count": 22,
   "id": "f102b113-08ad-4ecf-bc89-1fe017fff591",
   "metadata": {},
   "outputs": [
    {
     "name": "stdout",
     "output_type": "stream",
     "text": [
      "cuda\n"
     ]
    }
   ],
   "source": [
    "device = 'cuda' if torch.cuda.is_available() else 'cpu'\n",
    "\n",
    "torch.manual_seed(777)\n",
    "if device =='cuda':\n",
    "    torch.cuda.manual_seed_all(777)\n",
    "\n",
    "print(device)"
   ]
  },
  {
   "cell_type": "code",
   "execution_count": 23,
   "id": "26659130-eda2-4876-9530-70d34de0deb1",
   "metadata": {},
   "outputs": [
    {
     "name": "stdout",
     "output_type": "stream",
     "text": [
      "510\n"
     ]
    }
   ],
   "source": [
    "##현재 데이터는 directory_path에 0~9까지의 숫자가 각가 10개씩 저장되어 있다.\n",
    "##이를 label, 이미지로 저장해보도록 하겠다.\n",
    "\n",
    "\n",
    "directory_path = r'C:\\\\Users\\\\kuroc\\\\Documents\\\\no_1\\\\num data\\\\train'\n",
    "\n",
    "# 데이터셋 초기화; 이미지:라벨로 저장\n",
    "data = {'images': [], 'labels': []}\n",
    "\n",
    "# 디렉토리 내의 모든 파일 목록 얻기\n",
    "file_list = os.listdir(directory_path)\n",
    "\n",
    "print(len(file_list))\n",
    "\n",
    "##문제 없이 파일 출력 완료"
   ]
  },
  {
   "cell_type": "code",
   "execution_count": 24,
   "id": "6b21b206-8e90-4f3f-9eea-048d32304843",
   "metadata": {},
   "outputs": [],
   "source": [
    "# 디렉토리 내의 각 이미지에 대해 반복\n",
    "for file_name in file_list:\n",
    "    img_path = os.path.join(directory_path, file_name)\n",
    "    img_array=np.fromfile(img_path, np.uint8)\n",
    "    img = cv2.imdecode(img_array, cv2.IMREAD_COLOR)\n",
    "    # 이미지를 읽어오기\n",
    "    img = cv2.imread(img_path, cv2.IMREAD_GRAYSCALE)\n",
    "\n",
    "    # 이미지 파일 이름에서 숫자 정보 추출\n",
    "    ''' 이미지 형식은 \"해당 숫자_순번\"형식이다. 따라서 _를 기준으로 숫자를 분리한다.\n",
    "        앞 숫자가 label이다. 글자로 취급되기 때문에 이를 int형으로 바꾼다 '''\n",
    "    \n",
    "    label = int(file_name.split('_')[0])\n",
    "\n",
    "    # 이미지와 레이블을 데이터셋에 추가\n",
    "    data['images'].append(img)\n",
    "    data['labels'].append(label)"
   ]
  },
  {
   "cell_type": "code",
   "execution_count": 25,
   "id": "a745384d-b5a0-4980-bf79-6e38580ed9a2",
   "metadata": {},
   "outputs": [
    {
     "name": "stdout",
     "output_type": "stream",
     "text": [
      "Images shape: (510, 28, 28)\n",
      "Labels shape: (510,)\n"
     ]
    }
   ],
   "source": [
    "# NumPy 배열로 변환\n",
    "data['images'] = np.array(data['images'])\n",
    "data['labels'] = np.array(data['labels'])\n",
    "\n",
    "## image는 이미 0, 255 형태로 전처리 되어 있다.\n",
    "## x_train, y_train을 만들기 위해 array형식으로 바꿔준다.\n",
    "\n",
    "\n",
    "# 데이터셋의 형태 확인\n",
    "print(\"Images shape:\", data['images'].shape)\n",
    "print(\"Labels shape:\", data['labels'].shape)\n",
    "\n",
    "##이미지도, 라벨도 100개가 잘 저장 된 것을 볼 수 있다."
   ]
  },
  {
   "cell_type": "code",
   "execution_count": 26,
   "id": "733f062f-5084-4284-82af-9bf427f00c44",
   "metadata": {},
   "outputs": [
    {
     "data": {
      "image/png": "[encoded data removed]",
      "text/plain": [
       "<Figure size 800x800 with 25 Axes>"
      ]
     },
     "metadata": {},
     "output_type": "display_data"
    }
   ],
   "source": [
    "plt.figure(figsize=(8, 8))\n",
    "for i in range(1, 26):\n",
    "    plt.subplot(5, 5, i)\n",
    "    plt.imshow(data['images'][i], 'gray')\n",
    "    plt.axis('off')\n",
    "plt.show()\n",
    "\n",
    "##이미지가 잘 저장되었다."
   ]
  },
  {
   "cell_type": "markdown",
   "id": "a43630bb-bf9c-4ab6-8d48-c5401d06c23e",
   "metadata": {},
   "source": [
    "## 테스트 이미지, 레이블 저장"
   ]
  },
  {
   "cell_type": "code",
   "execution_count": 27,
   "id": "86b92562-fd74-456e-92aa-8a37d70cfbf0",
   "metadata": {},
   "outputs": [
    {
     "name": "stdout",
     "output_type": "stream",
     "text": [
      "['1.png', '2.png', '3.png', '4.png', '5.png', '6.png', '7.png', '8.png', '9.png']\n"
     ]
    }
   ],
   "source": [
    "directory_te = r'C:\\Users\\kuroc\\Documents\\no_1\\num data\\test'\n",
    "\n",
    "# 데이터셋 초기화; 이미지:라벨로 저장\n",
    "data2 = {'images': [], 'labels': []}\n",
    "\n",
    "# 디렉토리 내의 모든 파일 목록 얻기\n",
    "file_list = os.listdir(directory_te)\n",
    "\n",
    "print(file_list)\n",
    "\n",
    "# 디렉토리 내의 각 이미지에 대해 반복\n",
    "for i, file_name in enumerate(file_list):\n",
    "    img_path = os.path.join(directory_te, file_name)\n",
    "\n",
    "    # 이미지를 흑백으로 읽어오기\n",
    "    img = cv2.imread(img_path, cv2.IMREAD_GRAYSCALE)\n",
    "        \n",
    "    # 이미지 파일 이름에서 숫자 정보 추출\n",
    "    label = int(file_name.split('.')[0])\n",
    "\n",
    "    # 이미지와 레이블을 데이터셋에 추가\n",
    "    data2['images'].append(img)\n",
    "    data2['labels'].append(label)\n",
    "\n"
   ]
  },
  {
   "cell_type": "code",
   "execution_count": 28,
   "id": "845ab345-637f-4137-bc83-26db0b62de3f",
   "metadata": {},
   "outputs": [
    {
     "name": "stdout",
     "output_type": "stream",
     "text": [
      "Images shape: (9, 28, 28)\n",
      "Labels shape: (9,)\n"
     ]
    }
   ],
   "source": [
    "# NumPy 배열로 변환\n",
    "data2['images'] = np.array(data2['images'])\n",
    "data2['labels'] = np.array(data2['labels'])\n",
    "\n",
    "## image는 이미 0, 255 형태로 전처리 되어 있다.\n",
    "\n",
    "# 데이터셋의 형태 확인\n",
    "print(\"Images shape:\", data2['images'].shape)\n",
    "print(\"Labels shape:\", data2['labels'].shape)\n"
   ]
  },
  {
   "cell_type": "code",
   "execution_count": 29,
   "id": "86bacd42-3f5b-4d97-ab3d-d736141c3067",
   "metadata": {},
   "outputs": [
    {
     "data": {
      "image/png": "[encoded data removed]",
      "text/plain": [
       "<Figure size 400x400 with 9 Axes>"
      ]
     },
     "metadata": {},
     "output_type": "display_data"
    }
   ],
   "source": [
    "plt.figure(figsize=(4, 4))\n",
    "for i in range(1, 10):\n",
    "    plt.subplot(3, 3, i)\n",
    "    plt.imshow(data2['images'][i - 1], 'gray')  # 인덱스는 0부터 시작하므로 i - 1\n",
    "    plt.axis('off')\n",
    "plt.show()\n"
   ]
  },
  {
   "cell_type": "markdown",
   "id": "95cf14c4-cc22-4a35-b275-efe48e2d0514",
   "metadata": {},
   "source": [
    "## MNIST 클래스 모델 만들기"
   ]
  },
  {
   "cell_type": "code",
   "execution_count": 30,
   "id": "923e44a2-245a-4b3d-9f4a-e5d1c661d071",
   "metadata": {},
   "outputs": [],
   "source": [
    "## 학습 모델 클래스\n",
    "class MNistRegression(nn.Module):\n",
    "    def __init__(self):\n",
    "        super(MNistRegression, self).__init__()\n",
    "        self.layer1 = nn.Sequential(\n",
    "            nn.Conv2d(3,6,5),\n",
    "            \n",
    "        )\n",
    "        self.linear1 = nn.Linear(28*28, 100)\n",
    "        self.linear2 = nn.Linear(100, 50)\n",
    "        self.linear3 = nn.Linear(50, 10)\n",
    "\n",
    "    def forward(self, x):\n",
    "        x = self.linear1(x)\n",
    "        x = F.relu(x)\n",
    "        x = self.linear2(x)\n",
    "        x = F.sigmoid(x)\n",
    "        x = self.linear3(x)\n",
    "        return x\n"
   ]
  },
  {
   "cell_type": "code",
   "execution_count": 31,
   "id": "e344064b-3664-4851-9836-27f7e51c743c",
   "metadata": {},
   "outputs": [],
   "source": [
    "## 데이터 전처리 클래스\n",
    "class CustomDataset(Dataset):\n",
    "    def __init__(self, data, transform=None):\n",
    "        self.images = data['images']\n",
    "        self.labels = data['labels']\n",
    "        self.transform = transform\n",
    "\n",
    "    def __len__(self):\n",
    "        return len(self.images)\n",
    "\n",
    "    def __getitem__(self, idx):\n",
    "        image = self.images[idx]\n",
    "        label = self.labels[idx]\n",
    "\n",
    "        # Apply the specified transformations to the image\n",
    "        if self.transform:\n",
    "            image = self.transform(image)\n",
    "        image = image.flatten()\n",
    "        # Convert image and label to PyTorch Tensor\n",
    "        image = torch.tensor(image, dtype=torch.float32)\n",
    "        label = torch.tensor(label, dtype=torch.long)\n",
    "\n",
    "        return image, label\n",
    "\n",
    "\n",
    "## x 모델 만들기\n",
    "model=MNistRegression().to(device)\n",
    "dataset = CustomDataset(data)\n",
    "testset = CustomDataset(data2)"
   ]
  },
  {
   "cell_type": "markdown",
   "id": "a51b0e9a-c198-4723-a8e2-2ec59f5cf0b5",
   "metadata": {},
   "source": [
    "## 데이터 학습하기"
   ]
  },
  {
   "cell_type": "code",
   "execution_count": 32,
   "id": "725b9bdf-b41a-4ec6-97aa-b8423362302f",
   "metadata": {},
   "outputs": [
    {
     "name": "stdout",
     "output_type": "stream",
     "text": [
      "Epoch [0/100], Cost: 0.004689\n",
      "Epoch [10/100], Cost: 0.004112\n",
      "Epoch [20/100], Cost: 0.004112\n",
      "Epoch [30/100], Cost: 0.004112\n",
      "Epoch [40/100], Cost: 0.004112\n",
      "Epoch [50/100], Cost: 0.004112\n",
      "Epoch [60/100], Cost: 0.004112\n",
      "Epoch [70/100], Cost: 0.004112\n",
      "Epoch [80/100], Cost: 0.003992\n",
      "Epoch [90/100], Cost: 0.003992\n"
     ]
    }
   ],
   "source": [
    "optimizer = torch.optim.SGD(model.parameters(), lr=0.1)\n",
    "epoch = 100\n",
    "for i in range(epoch):\n",
    "    for x, y in dataset:  # 미니배치로 나뉜 데이터에서 각각 x, y에 대해 학습\n",
    "\n",
    "        x=x.to(device)\n",
    "        y=y.to(device)\n",
    "        \n",
    "        hy = model(x)  # x 데이터를 모델에 넣음\n",
    "        criterion = nn.CrossEntropyLoss()\n",
    "        cost = criterion(hy, y)\n",
    "        \n",
    "        optimizer.zero_grad()\n",
    "        cost.backward()\n",
    "        optimizer.step()\n",
    "\n",
    "    if i%10==0:\n",
    "        print('Epoch [{}/{}], Cost: {:.6f}'.format(i, epoch, cost.item()))\n"
   ]
  },
  {
   "cell_type": "markdown",
   "id": "0046533d-2a5c-4c13-8960-5d5e51d68a2d",
   "metadata": {},
   "source": [
    "## 테스트"
   ]
  },
  {
   "cell_type": "code",
   "execution_count": 33,
   "id": "d2df798a-7ac8-4188-9076-4c7d1e2ee8be",
   "metadata": {},
   "outputs": [
    {
     "name": "stdout",
     "output_type": "stream",
     "text": [
      "Accuracy: 11.11%\n"
     ]
    }
   ],
   "source": [
    "total_correct = 0\n",
    "total_samples = len(testset)\n",
    "\n",
    "# 모델을 GPU로 이동\n",
    "model.to(next(model.parameters()).device)\n",
    "\n",
    "model.eval()  # 모델을 평가 모드로 설정\n",
    "\n",
    "for test_image, test_label in testset:\n",
    "    # test_image를 모델이 있는 디바이스로 이동\n",
    "    test_image = test_image.to(next(model.parameters()).device)\n",
    "    \n",
    "    # 모델 예측\n",
    "    probabilities = torch.softmax(model(test_image.unsqueeze(0)), dim=1)\n",
    "    predicted_label = torch.argmax(probabilities).item()\n",
    "    \n",
    "    if predicted_label == test_label:\n",
    "        total_correct += 1\n",
    "\n",
    "accuracy = total_correct / total_samples\n",
    "print(\"Accuracy: {:.2f}%\".format(accuracy * 100))\n"
   ]
  },
  {
   "cell_type": "code",
   "execution_count": null,
   "id": "c956e2e3-0128-40a6-a27e-0f11144b1a26",
   "metadata": {},
   "outputs": [],
   "source": []
  }
 ],
 "metadata": {
  "kernelspec": {
   "display_name": "Python 3 (ipykernel)",
   "language": "python",
   "name": "python3"
  },
  "language_info": {
   "codemirror_mode": {
    "name": "ipython",
    "version": 3
   },
   "file_extension": ".py",
   "mimetype": "text/x-python",
   "name": "python",
   "nbconvert_exporter": "python",
   "pygments_lexer": "ipython3",
   "version": "3.11.5"
  }
 },
 "nbformat": 4,
 "nbformat_minor": 5
}

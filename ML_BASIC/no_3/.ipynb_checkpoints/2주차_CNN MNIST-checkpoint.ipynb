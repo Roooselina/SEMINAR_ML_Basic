{
 "cells": [
  {
   "cell_type": "code",
   "execution_count": null,
   "id": "27cabdd4-f92c-4671-b2d1-2c8832537203",
   "metadata": {},
   "outputs": [],
   "source": [
    "import torch\n",
    "import torch.nn as nn\n",
    "import numpy\n",
    "import torchvision.datasets as dsets\n",
    "import torchvision.transforms as transforms\n",
    "import torch.nn.init"
   ]
  },
  {
   "cell_type": "code",
   "execution_count": null,
   "id": "775426b7-6d53-45e2-a30a-2f5b4d1dda45",
   "metadata": {},
   "outputs": [],
   "source": [
    "rate=0.01\n",
    "epoch=20\n",
    "batch_size = 32"
   ]
  },
  {
   "cell_type": "code",
   "execution_count": null,
   "id": "6bf508a3-83c0-4b9a-bddc-a6e6d969c812",
   "metadata": {},
   "outputs": [],
   "source": [
    "device = 'cuda' if torch.cuda.is_available() else 'cpu'\n",
    "\n",
    "torch.manual_seed(777)\n",
    "if device =='cuda':\n",
    "    torch.cuda.manual_seed_all(777)\n",
    "\n",
    "print(device)"
   ]
  },
  {
   "cell_type": "code",
   "execution_count": 22,
   "id": "2a844880-edbd-46c0-b3d8-4b5a0330fe19",
   "metadata": {},
   "outputs": [],
   "source": [
    "mnist_train = dsets.MNIST( root = 'MNIST_data/',\n",
    "                          train= True,\n",
    "                          transform = transforms.ToTensor(),\n",
    "                          download=True)\n",
    " \n",
    "mnist_test = dsets.MNIST( root = 'MNIST_data/',\n",
    "                          train= False,\n",
    "                          transform = transforms.ToTensor(),\n",
    "                          download=True)"
   ]
  },
  {
   "cell_type": "code",
   "execution_count": 23,
   "id": "3e1bbc00-4113-433f-aaeb-46404e1d1d79",
   "metadata": {},
   "outputs": [],
   "source": [
    "data = torch.utils.data.DataLoader(mnist_train, batch_size, shuffle=True)"
   ]
  },
  {
   "cell_type": "code",
   "execution_count": 24,
   "id": "838c4548-e69b-4cab-baa0-1296a2614953",
   "metadata": {},
   "outputs": [],
   "source": [
    "class CNN(nn.Module):\n",
    "    def __init__(self):\n",
    "        super(CNN, self).__init__()\n",
    "        self.layer1 = nn.Sequential(\n",
    "            nn.Conv2d(1,32, kernel_size = 3 , stride = 1, padding = 1),\n",
    "            nn.ReLU(),\n",
    "            nn.MaxPool2d(2)\n",
    "        )\n",
    "        self.layer2 = nn.Sequential(\n",
    "            nn.Conv2d(32,64, kernel_size = 3 , stride = 1, padding = 1),\n",
    "            nn.ReLU(),\n",
    "            nn.MaxPool2d(2)\n",
    "        )\n",
    "        self.layer3 = nn.Sequential(\n",
    "            nn.Conv2d(64,128, kernel_size = 3 , stride = 1, padding = 1),\n",
    "            nn.ReLU(),\n",
    "            nn.MaxPool2d(2)\n",
    "        )\n",
    "        self.fc=nn.Linear(7*7*128,10, bias=True)\n",
    "        self.fc1 = nn.Linear(3*3*128,625)\n",
    "        self.fc2 = nn.Linear(625,10,bias=True)\n",
    "        torch.nn.init.xavier_uniform_(self.fc.weight)\n",
    "\n",
    "    def forward(self, x):\n",
    "        out = self.layer1(x)\n",
    "        out = self.layer2(out)\n",
    "        out = self.layer3(out)\n",
    "        out = out.view(out.size(0),-1)\n",
    "        out = self.fc1(out)\n",
    "        out = self.fc2(out)\n",
    "        return out"
   ]
  },
  {
   "cell_type": "code",
   "execution_count": 25,
   "id": "b003f8ad-5970-460d-95d1-19648b703531",
   "metadata": {},
   "outputs": [],
   "source": [
    "model = CNN().to(device)\n",
    "cr = nn.CrossEntropyLoss()\n",
    "optimizer = torch.optim.Adam(model.parameters(), lr = rate)"
   ]
  },
  {
   "cell_type": "code",
   "execution_count": 26,
   "id": "36ec9603-1b09-4b63-9f6c-11e17e0060a1",
   "metadata": {},
   "outputs": [
    {
     "name": "stdout",
     "output_type": "stream",
     "text": [
      "[Epoch: 0] cost = 2.314253091812134\n",
      "[Epoch: 1] cost = 2.3088014125823975\n",
      "[Epoch: 2] cost = 2.311544179916382\n",
      "[Epoch: 3] cost = 2.3122572898864746\n",
      "[Epoch: 4] cost = 2.3106887340545654\n",
      "[Epoch: 5] cost = 2.312458038330078\n",
      "[Epoch: 6] cost = 2.311051607131958\n",
      "[Epoch: 7] cost = 2.312725782394409\n",
      "[Epoch: 8] cost = 2.3129377365112305\n",
      "[Epoch: 9] cost = 2.312227964401245\n",
      "[Epoch: 10] cost = 2.3127052783966064\n",
      "[Epoch: 11] cost = 2.312354564666748\n",
      "[Epoch: 12] cost = 2.3117458820343018\n",
      "[Epoch: 13] cost = 2.310995101928711\n",
      "[Epoch: 14] cost = 2.3128981590270996\n",
      "[Epoch: 15] cost = 2.313950300216675\n",
      "[Epoch: 16] cost = 2.3114707469940186\n",
      "[Epoch: 17] cost = 2.312101125717163\n",
      "[Epoch: 18] cost = 2.3134827613830566\n",
      "[Epoch: 19] cost = 2.311109781265259\n",
      "A\n"
     ]
    }
   ],
   "source": [
    "total_batch = len(data)\n",
    "\n",
    "for e in range(epoch):\n",
    "    avg_cost = 0\n",
    "    for x,y in data:\n",
    "        optimizer.zero_grad()\n",
    "        x=x.to(device)\n",
    "        y=y.to(device)\n",
    "        \n",
    "        hy=model(x)\n",
    "        cost = cr(hy, y)\n",
    "        \n",
    "        cost.backward()\n",
    "        optimizer.step()\n",
    "        avg_cost +=cost / total_batch\n",
    "\n",
    "    print('[Epoch: {}] cost = {}'.format(e, avg_cost))\n",
    "\n",
    "\n",
    "print(\"A\")"
   ]
  },
  {
   "cell_type": "code",
   "execution_count": 28,
   "id": "5d80a3cb-ba1b-4772-8db1-1782252687c6",
   "metadata": {},
   "outputs": [
    {
     "name": "stdout",
     "output_type": "stream",
     "text": [
      "Accuracy: 0.08919999748468399\n"
     ]
    }
   ],
   "source": [
    "with torch.no_grad():\n",
    "    x_test = mnist_test.test_data.view(len(mnist_test), 1, 28, 28).float().to(device)\n",
    "    y_test = mnist_test.test_labels.to(device)\n",
    "    pr = model(x_test)\n",
    "    co_pr = torch.argmax(pr, 1) == y_test\n",
    "    accuracy = co_pr.float().mean()\n",
    "    print(\"Accuracy:\",accuracy.item())"
   ]
  },
  {
   "cell_type": "code",
   "execution_count": null,
   "id": "136a8bec-3f42-4a05-8ad5-b4a15ec93c5e",
   "metadata": {},
   "outputs": [],
   "source": []
  },
  {
   "cell_type": "code",
   "execution_count": null,
   "id": "9d662dbf-b17d-4472-8d23-6c405d558f3e",
   "metadata": {},
   "outputs": [],
   "source": []
  }
 ],
 "metadata": {
  "kernelspec": {
   "display_name": "Python 3 (ipykernel)",
   "language": "python",
   "name": "python3"
  },
  "language_info": {
   "codemirror_mode": {
    "name": "ipython",
    "version": 3
   },
   "file_extension": ".py",
   "mimetype": "text/x-python",
   "name": "python",
   "nbconvert_exporter": "python",
   "pygments_lexer": "ipython3",
   "version": "3.11.5"
  }
 },
 "nbformat": 4,
 "nbformat_minor": 5
}

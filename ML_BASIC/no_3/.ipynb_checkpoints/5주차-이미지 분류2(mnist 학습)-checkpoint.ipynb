{
 "cells": [
  {
   "cell_type": "code",
   "execution_count": 1,
   "id": "50a5fdec-c21f-44b9-b20e-2b7f4cefaff6",
   "metadata": {},
   "outputs": [],
   "source": [
    "import os\n",
    "import cv2\n",
    "import numpy as np\n",
    "import matplotlib.pyplot as plt\n",
    "import torch.nn as nn\n",
    "import torch.nn.functional as F\n",
    "from torch.utils.data import DataLoader, Dataset\n",
    "from torchvision import datasets, transforms\n",
    "from torch import optim, torch\n"
   ]
  },
  {
   "cell_type": "code",
   "execution_count": 2,
   "id": "9881cbf5-f881-4347-abe9-585788ec8c6a",
   "metadata": {},
   "outputs": [
    {
     "name": "stdout",
     "output_type": "stream",
     "text": [
      "cuda\n"
     ]
    }
   ],
   "source": [
    "device = 'cuda' if torch.cuda.is_available() else 'cpu'\n",
    "\n",
    "torch.manual_seed(777)\n",
    "if device =='cuda':\n",
    "    torch.cuda.manual_seed_all(777)\n",
    "\n",
    "print(device)\n",
    "\n",
    "##현재 데이터는 directory_path에 0~9까지의 숫자가 각가 10개씩 저장되어 있다.\n",
    "##이를 label, 이미지로 저장해보도록 하겠다.\n"
   ]
  },
  {
   "cell_type": "code",
   "execution_count": 3,
   "id": "1c6b9821-8876-4d49-bbc1-97b64b66f575",
   "metadata": {},
   "outputs": [],
   "source": [
    "# MNIST 데이터셋 다운로드 및 정규화\n",
    "transform = transforms.Compose([\n",
    "    transforms.ToTensor(),  # 이미지를 PyTorch Tensor로 변환\n",
    "    transforms.Normalize((0.5,), (0.5,))  # 평균과 표준편차를 사용하여 이미지를 정규화\n",
    "])\n",
    "\n",
    "# 학습 데이터셋\n",
    "train_dataset = datasets.MNIST(root='./data', train=True, download=True, transform=transform)\n",
    "train_loader = DataLoader(train_dataset, batch_size=64, shuffle=True)\n",
    "\n"
   ]
  },
  {
   "cell_type": "code",
   "execution_count": 4,
   "id": "fdaabd41-01c3-4417-8ecc-45620f41984a",
   "metadata": {},
   "outputs": [
    {
     "name": "stdout",
     "output_type": "stream",
     "text": [
      "510\n"
     ]
    }
   ],
   "source": [
    "directory_path = r'C:\\\\Users\\\\kuroc\\\\Documents\\\\no_1\\\\num data\\\\train'\n",
    "\n",
    "# 데이터셋 초기화; 이미지:라벨로 저장\n",
    "data = {'images': [], 'labels': []}\n",
    "\n",
    "# 디렉토리 내의 모든 파일 목록 얻기\n",
    "file_list = os.listdir(directory_path)\n",
    "\n",
    "print(len(file_list))\n",
    "\n",
    "##문제 없이 파일 출력 완료\n"
   ]
  },
  {
   "cell_type": "code",
   "execution_count": 5,
   "id": "59971f93-4d3c-49a4-8fa9-b294f2be79ef",
   "metadata": {},
   "outputs": [],
   "source": [
    "# 디렉토리 내의 각 이미지에 대해 반복\n",
    "for file_name in file_list:\n",
    "    img_path = os.path.join(directory_path, file_name)\n",
    "    img_array=np.fromfile(img_path, np.uint8)\n",
    "    img = cv2.imdecode(img_array, cv2.IMREAD_COLOR)\n",
    "    # 이미지를 읽어오기\n",
    "    img = cv2.imread(img_path, cv2.IMREAD_GRAYSCALE)\n",
    "\n",
    "    # 이미지 파일 이름에서 숫자 정보 추출\n",
    "    ''' 이미지 형식은 \"해당 숫자_순번\"형식이다. 따라서 _를 기준으로 숫자를 분리한다.\n",
    "        앞 숫자가 label이다. 글자로 취급되기 때문에 이를 int형으로 바꾼다 '''\n",
    "    \n",
    "    label = int(file_name.split('_')[0])\n",
    "\n",
    "    # 이미지와 레이블을 데이터셋에 추가\n",
    "    data['images'].append(img)\n",
    "    data['labels'].append(label)"
   ]
  },
  {
   "cell_type": "code",
   "execution_count": 6,
   "id": "43a8ab8a-cf5b-403d-8d9f-8fc63a5affa8",
   "metadata": {},
   "outputs": [
    {
     "name": "stdout",
     "output_type": "stream",
     "text": [
      "Images shape: (510, 28, 28)\n",
      "Labels shape: (510,)\n"
     ]
    },
    {
     "data": {
      "image/png": "[encoded data removed]",
      "text/plain": [
       "<Figure size 800x800 with 25 Axes>"
      ]
     },
     "metadata": {},
     "output_type": "display_data"
    }
   ],
   "source": [
    "# NumPy 배열로 변환\n",
    "data['images'] = np.array(data['images'])\n",
    "data['labels'] = np.array(data['labels'])\n",
    "\n",
    "## image는 이미 0, 255 형태로 전처리 되어 있다.\n",
    "## x_train, y_train을 만들기 위해 array형식으로 바꿔준다.\n",
    "\n",
    "# 데이터셋의 형태 확인\n",
    "print(\"Images shape:\", data['images'].shape)\n",
    "print(\"Labels shape:\", data['labels'].shape)\n",
    "\n",
    "##이미지도, 라벨도 100개가 잘 저장 된 것을 볼 수 있다.\n",
    "\n",
    "plt.figure(figsize=(8, 8))\n",
    "for i in range(1, 26):\n",
    "    plt.subplot(5, 5, i)\n",
    "    plt.imshow(data['images'][i], 'gray')\n",
    "    plt.axis('off')\n",
    "plt.show()\n",
    "\n",
    "##이미지가 잘 저장되었다."
   ]
  },
  {
   "cell_type": "code",
   "execution_count": 7,
   "id": "aa45151f-0a0e-4d78-9908-65fffc6293b8",
   "metadata": {},
   "outputs": [],
   "source": [
    "class CNN(nn.Module):\n",
    "    def __init__(self):\n",
    "        super(CNN, self).__init__()\n",
    "        self.linear1 = nn.Sequential(\n",
    "            nn.Conv2d(1, 32, kernel_size=3, stride=1, padding=1),\n",
    "            nn.ReLU(),\n",
    "            nn.MaxPool2d(2)\n",
    "        )\n",
    "        self.linear2 = nn.Sequential(\n",
    "            nn.Conv2d(32, 64, kernel_size=3, stride=1, padding=1),\n",
    "            nn.ReLU(),\n",
    "            nn.MaxPool2d(2)\n",
    "        )\n",
    "        self.linear3 = nn.Sequential(\n",
    "            nn.Conv2d(64, 128, kernel_size=3, stride=1, padding=1),\n",
    "            nn.ReLU(),\n",
    "            nn.MaxPool2d(2)\n",
    "        )\n",
    "        self.fc1 = nn.Linear(3 * 3 * 128, 625)\n",
    "        self.relu = nn.ReLU()\n",
    "        self.fc2 = nn.Linear(625, 10, bias=True)\n",
    "        torch.nn.init.xavier_uniform_(self.fc1.weight)\n",
    "        torch.nn.init.xavier_uniform_(self.fc2.weight)\n",
    "\n",
    "    def forward(self, x):\n",
    "        out = self.linear1(x)\n",
    "        out = self.linear2(out)\n",
    "        out = self.linear3(out)\n",
    "        out = out.view(out.size(0), -1)\n",
    "        out = self.fc1(out)\n",
    "        out = self.relu(out)\n",
    "        out = self.fc2(out)\n",
    "        return out\n"
   ]
  },
  {
   "cell_type": "code",
   "execution_count": 8,
   "id": "ac1c5ac7-f1f1-4df7-a8ef-c64055c8205d",
   "metadata": {},
   "outputs": [],
   "source": [
    "## 데이터 전처리 클래스\n",
    "class CustomDataset(nn.Module):\n",
    "    def __init__(self, data, transform=None):\n",
    "        self.images = data['images']\n",
    "        self.labels = data['labels']\n",
    "        self.transform = transform\n",
    "\n",
    "    def __len__(self):\n",
    "        return len(self.images)\n",
    "\n",
    "    def __getitem__(self, idx):\n",
    "        image = self.images[idx]\n",
    "        label = self.labels[idx]\n",
    "\n",
    "        # Apply the specified transformations to the image\n",
    "        if self.transform:\n",
    "            image = self.transform(image)\n",
    "        image = image.flatten()\n",
    "        # Convert image and label to PyTorch Tensor\n",
    "        image = torch.tensor(image, dtype=torch.float32)\n",
    "        label = torch.tensor(label, dtype=torch.long)\n",
    "\n",
    "        return image, label"
   ]
  },
  {
   "cell_type": "code",
   "execution_count": 9,
   "id": "8bda5b6b-6421-4372-904a-6842f530d38c",
   "metadata": {},
   "outputs": [],
   "source": [
    "## x 모델 만들기\n",
    "model=CNN().to(device)\n",
    "dataset = CustomDataset(data)"
   ]
  },
  {
   "cell_type": "code",
   "execution_count": 10,
   "id": "11c848b7-7706-4431-8ea2-bb5eeb992c95",
   "metadata": {},
   "outputs": [
    {
     "name": "stdout",
     "output_type": "stream",
     "text": [
      "Epoch [1], Avg. Cost: 2.1568\n",
      "Epoch [2], Avg. Cost: 1.3628\n",
      "Epoch [3], Avg. Cost: 0.5384\n",
      "Epoch [4], Avg. Cost: 0.3301\n",
      "Epoch [5], Avg. Cost: 0.2508\n",
      "Epoch [6], Avg. Cost: 0.2075\n",
      "Epoch [7], Avg. Cost: 0.1796\n",
      "Epoch [8], Avg. Cost: 0.1599\n",
      "Epoch [9], Avg. Cost: 0.1456\n",
      "Epoch [10], Avg. Cost: 0.1336\n",
      "Epoch [11], Avg. Cost: 0.1241\n",
      "Epoch [12], Avg. Cost: 0.1164\n",
      "Epoch [13], Avg. Cost: 0.1098\n",
      "Epoch [14], Avg. Cost: 0.1044\n",
      "Epoch [15], Avg. Cost: 0.0993\n",
      "Epoch [16], Avg. Cost: 0.0947\n",
      "Epoch [17], Avg. Cost: 0.0911\n",
      "Epoch [18], Avg. Cost: 0.0877\n",
      "Epoch [19], Avg. Cost: 0.0843\n",
      "Epoch [20], Avg. Cost: 0.0818\n",
      "학습 종료\n"
     ]
    }
   ],
   "source": [
    "optimizer = optim.SGD(model.parameters(), lr=0.001)\n",
    "criterion = nn.CrossEntropyLoss()\n",
    "\n",
    "epochs = 20\n",
    "for epoch in range(epochs):\n",
    "    total_cost = 0\n",
    "    for x, y in train_loader:\n",
    "        x = x.view(-1, 1, 28, 28).to(device)\n",
    "        y = y.to(device)\n",
    "\n",
    "        optimizer.zero_grad()\n",
    "        hy = model(x)\n",
    "        cost = criterion(hy, y)\n",
    "        \n",
    "        cost.backward()\n",
    "        optimizer.step()\n",
    "\n",
    "        total_cost += cost.item()\n",
    "\n",
    "    print(\"Epoch [{}], Avg. Cost: {:.4f}\".format(epoch + 1, total_cost / len(train_loader)))\n",
    "\n",
    "print(\"학습 종료\")\n",
    "\n"
   ]
  },
  {
   "cell_type": "code",
   "execution_count": 11,
   "id": "177d6c75-6a52-4fe7-a0a7-5fcd3c6f5dde",
   "metadata": {},
   "outputs": [
    {
     "name": "stdout",
     "output_type": "stream",
     "text": [
      "Test Accuracy: 97.61333333333333%\n"
     ]
    }
   ],
   "source": [
    "total = 0\n",
    "correct = 0\n",
    "\n",
    "# 모델을 평가 모드로 전환\n",
    "model.eval()\n",
    "\n",
    "with torch.no_grad():\n",
    "    for x, y in train_loader:\n",
    "        x = x.view(-1, 1, 28, 28).to(device)\n",
    "        y = y.to(device)\n",
    "\n",
    "        outputs = model(x)\n",
    "        _, predicted = torch.max(outputs.data, 1)\n",
    "\n",
    "        total += y.size(0)\n",
    "        correct += (predicted == y).sum().item()\n",
    "\n",
    "# 정확도 계산\n",
    "accuracy = correct / total\n",
    "print('Test Accuracy: {:}%'.format(accuracy*100))\n"
   ]
  },
  {
   "cell_type": "code",
   "execution_count": 12,
   "id": "dfe9eb26-7ddd-4e4d-9c14-35c48ca33cfc",
   "metadata": {},
   "outputs": [
    {
     "name": "stdout",
     "output_type": "stream",
     "text": [
      "510\n",
      "Test Accuracy: 97.21%\n"
     ]
    }
   ],
   "source": [
    "model.eval()\n",
    "print(len(dataset))\n",
    "# 정확도\n",
    "for x, y in dataset:\n",
    "    x = x.view(-1, 1, 28, 28)\n",
    "    x = x.to(device)\n",
    "    y = y.to(device)\n",
    "    \n",
    "    outputs = model(x)\n",
    "    _, predicted = torch.max(outputs.data, 1)\n",
    "    \n",
    "    total += 1\n",
    "    correct += (predicted == y).sum().item()  # 'labels' 대신 'y'를 사용\n",
    "\n",
    "accuracy = correct / total\n",
    "print('Test Accuracy: {:.2%}'.format(accuracy))\n",
    "\n"
   ]
  },
  {
   "cell_type": "code",
   "execution_count": null,
   "id": "0327e9f4-4197-4208-a4aa-e0d6b25658f1",
   "metadata": {},
   "outputs": [],
   "source": []
  }
 ],
 "metadata": {
  "kernelspec": {
   "display_name": "Python 3 (ipykernel)",
   "language": "python",
   "name": "python3"
  },
  "language_info": {
   "codemirror_mode": {
    "name": "ipython",
    "version": 3
   },
   "file_extension": ".py",
   "mimetype": "text/x-python",
   "name": "python",
   "nbconvert_exporter": "python",
   "pygments_lexer": "ipython3",
   "version": "3.11.5"
  }
 },
 "nbformat": 4,
 "nbformat_minor": 5
}

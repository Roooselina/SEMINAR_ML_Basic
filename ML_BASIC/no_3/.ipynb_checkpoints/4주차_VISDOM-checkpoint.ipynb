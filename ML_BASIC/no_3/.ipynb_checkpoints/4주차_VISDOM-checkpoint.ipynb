{
 "cells": [
  {
   "cell_type": "code",
   "execution_count": 38,
   "id": "ac5e7c15-099d-49dc-a296-652d2f799177",
   "metadata": {},
   "outputs": [
    {
     "name": "stderr",
     "output_type": "stream",
     "text": [
      "Setting up a new session...\n"
     ]
    }
   ],
   "source": [
    "import torch\n",
    "import torch.nn as nn\n",
    "\n",
    "import torchvision\n",
    "import torchvision.datasets as dsets\n",
    "from torchvision import transforms\n",
    "import visdom\n",
    "\n",
    "vis= visdom.Visdom()  ##visdom 서버 키는 코드"
   ]
  },
  {
   "cell_type": "code",
   "execution_count": 39,
   "id": "ec9459be-dba9-40e8-98f5-448b2dec2991",
   "metadata": {},
   "outputs": [
    {
     "data": {
      "text/plain": [
       "'window_3c95ac71958eee'"
      ]
     },
     "execution_count": 39,
     "metadata": {},
     "output_type": "execute_result"
    }
   ],
   "source": [
    "vis.text(\"Hello Word\", env=\"main\")\n",
    "\n",
    "##env 코드 없어도 상관 x; 쓰는 이유 : for 추후에 모든 항목 한번에 제거"
   ]
  },
  {
   "cell_type": "code",
   "execution_count": 40,
   "id": "ddc74b93-6f0e-4bb5-84c1-e8c09f668e38",
   "metadata": {},
   "outputs": [
    {
     "data": {
      "text/plain": [
       "'window_3c95ac723d9360'"
      ]
     },
     "execution_count": 40,
     "metadata": {},
     "output_type": "execute_result"
    }
   ],
   "source": [
    "## a = torch.randn(batch_size , channel, height, width)\n",
    "a = torch.randn(3,2,200,200)\n",
    "vis.images(a)\n",
    "\n",
    "## 2를 1,2,3으로 변경 가능\n",
    "## 1 : 흑백 이미지(채널 1)\n",
    "## 2 : R,G 사용( 채널 2개 사용)\n",
    "## 3 : R,G,B 사용(채널 3개 사용)->풀컬러"
   ]
  },
  {
   "cell_type": "code",
   "execution_count": 78,
   "id": "13ca4b80-f24c-4643-8b91-cfc51dbcfc66",
   "metadata": {},
   "outputs": [
    {
     "data": {
      "text/plain": [
       "''"
      ]
     },
     "execution_count": 78,
     "metadata": {},
     "output_type": "execute_result"
    }
   ],
   "source": [
    "vis.close(env=\"main\")\n",
    "\n",
    "##싹 다 삭제함"
   ]
  },
  {
   "cell_type": "code",
   "execution_count": 43,
   "id": "badbb978-0b81-4345-852a-3a2968ba1b0f",
   "metadata": {},
   "outputs": [],
   "source": [
    "MNIST = dsets.MNIST(root='MNIST_data/', train=True, transform=transforms.ToTensor(), download=True)\n",
    "\n"
   ]
  },
  {
   "cell_type": "code",
   "execution_count": 45,
   "id": "7e2f0e18-fbf3-444c-b10d-53093bbe0c3a",
   "metadata": {},
   "outputs": [
    {
     "name": "stdout",
     "output_type": "stream",
     "text": [
      "torch.Size([1, 28, 28])\n"
     ]
    },
    {
     "data": {
      "text/plain": [
       "'window_3c95ac87ac0424'"
      ]
     },
     "execution_count": 45,
     "metadata": {},
     "output_type": "execute_result"
    }
   ],
   "source": [
    "\n",
    "\n",
    "data = MNIST.__getitem__(0)\n",
    "print(data[0].shape)\n",
    "vis.images(data[0], env = \"main\")\n",
    "\n",
    "## MNIST 아이템 가져옴(인덱스 0 )\n"
   ]
  },
  {
   "cell_type": "code",
   "execution_count": 47,
   "id": "133e5be4-c7e4-4ca3-a526-1f985b0fe139",
   "metadata": {},
   "outputs": [],
   "source": [
    "\n",
    "data_loader = torch.utils.data.DataLoader(dataset = MNIST,\n",
    "                                          batch_size = 32,\n",
    "                                          shuffle = False)"
   ]
  },
  {
   "cell_type": "code",
   "execution_count": 51,
   "id": "65ec47d3-9307-4be7-a687-3d13e6506f53",
   "metadata": {},
   "outputs": [
    {
     "name": "stdout",
     "output_type": "stream",
     "text": [
      "torch.Size([32, 1, 28, 28])\n"
     ]
    },
    {
     "data": {
      "text/plain": [
       "'\\nenumerate 쓰지 않으면 오류 발생\\nㄴ> FOR문 수행 도중 인덱스 추적하기 위함\\nㄴ> 위 키워드 실행하지 않을 시 tuple index out of range 오류 발생\\n'"
      ]
     },
     "execution_count": 51,
     "metadata": {},
     "output_type": "execute_result"
    }
   ],
   "source": [
    "for num, value in enumerate(data_loader):\n",
    "    value=value[0]\n",
    "    print(value.shape)\n",
    "    vis.images(value)\n",
    "    break\n",
    "\n",
    "\n",
    "##DataLoader 통해 배치사이즈 32 크기 MNIST 데이터 제작\n",
    "'''\n",
    "enumerate 쓰지 않으면 오류 발생\n",
    "ㄴ> FOR문 수행 도중 인덱스 추적하기 위함\n",
    "ㄴ> 위 키워드 실행하지 않을 시 tuple index out of range 오류 발생\n",
    "'''\n",
    "\n"
   ]
  },
  {
   "cell_type": "code",
   "execution_count": 70,
   "id": "cff0e270-9fed-43bf-b7e4-988086554605",
   "metadata": {},
   "outputs": [],
   "source": [
    "\n",
    "Y_data = torch.randn(5)\n",
    "plt = vis.line(Y=Y_data)\n",
    "\n",
    "## X 영역 정해지지 않으면 자동적으로 X(0~1)으로 지정\n",
    "## torch.randn(n)은 평균이 0이고 표준편차가 1인 정규 분포 랜덤 값 생성함\n"
   ]
  },
  {
   "cell_type": "code",
   "execution_count": 71,
   "id": "fad51b53-a057-44f2-9415-bfc24cb214a2",
   "metadata": {},
   "outputs": [],
   "source": [
    "\n",
    "X_data = torch.Tensor([1,2,3,4,5])\n",
    "plt = vis.line(Y=Y_data, X=X_data)\n",
    "\n",
    "## X영역 정해주면 Tensor 값만큼 영역을 가짐\n",
    "## x 크기 == y크기여야 함 무조건(아닐시 오류 발생)\n"
   ]
  },
  {
   "cell_type": "code",
   "execution_count": 85,
   "id": "ba345cd1-d377-4270-9034-b4f776b1d194",
   "metadata": {},
   "outputs": [
    {
     "name": "stdout",
     "output_type": "stream",
     "text": [
      "torch.Size([10])\n",
      "torch.Size([10, 1])\n",
      "torch.Size([10, 2])\n"
     ]
    },
    {
     "data": {
      "text/plain": [
       "'\\n0~9까지의 값을 가지는 tensor 생성\\n차원 바궈줌(열의 크기가 1이 되도록)=> 10x1\\n열에 있는 값을 복사해서 num의 dim=1에 붙임 = >10x2\\n'"
      ]
     },
     "execution_count": 85,
     "metadata": {},
     "output_type": "execute_result"
    }
   ],
   "source": [
    "\n",
    "num = torch.Tensor(list(range(0,10)))\n",
    "print(num.shape)\n",
    "num = num.view(-1,1)\n",
    "print(num.shape)\n",
    "num = torch.cat((num, num), dim=1)\n",
    "print(num.shape)\n",
    "\n",
    "plt = vis.line(Y=torch.randn(10,2), X=num)\n",
    "\n",
    "'''\n",
    "0~9까지의 값을 가지는 tensor 생성\n",
    "차원 바궈줌(열의 크기가 1이 되도록)=> 10x1\n",
    "열에 있는 값을 복사해서 num의 dim=1에 붙임 = >10x2\n",
    "'''\n",
    "\n",
    "##(10,2)에서 2이기 때문에 그래프가 2개 그려짐;\n",
    "## 1이면 그래프 1개 그려짐"
   ]
  },
  {
   "cell_type": "code",
   "execution_count": 79,
   "id": "122c37bd-084b-47b8-bbde-e9777ff14165",
   "metadata": {},
   "outputs": [],
   "source": [
    "plt = vis.line(Y=Y_data , X= X_data, opts = dict(title = 'TEST', showlegend=True))\n",
    "\n",
    "#전체 그래프에 대한 이름 지정"
   ]
  },
  {
   "cell_type": "code",
   "execution_count": 82,
   "id": "0a1d7462-f818-47f0-8252-0de69bf5caaf",
   "metadata": {},
   "outputs": [],
   "source": [
    "plt = vis.line(Y=Y_data , X= X_data, opts = dict(title = 'TEST', legend = ['1번'], showlegend=True))\n",
    "\n",
    "##그래프 선에 대한 이름 지정"
   ]
  },
  {
   "cell_type": "code",
   "execution_count": 88,
   "id": "31c3caa5-a8b4-49cd-aef1-df46951cfd11",
   "metadata": {},
   "outputs": [
    {
     "data": {
      "text/plain": [
       "''"
      ]
     },
     "execution_count": 88,
     "metadata": {},
     "output_type": "execute_result"
    }
   ],
   "source": [
    "vis.close(env=\"main\")\n",
    "\n",
    "##싹 다 삭제함"
   ]
  },
  {
   "cell_type": "code",
   "execution_count": 87,
   "id": "30e01d8b-b6e5-4db0-b24e-f5e52893754c",
   "metadata": {},
   "outputs": [],
   "source": [
    "plt = vis.line(Y=torch.randn(10,2), X=num, opts = dict(title = 'TEST', legend = ['1번', '2번'], showlegend=True))\n",
    "\n",
    "##그래프 선 2개에 대해 이름 지정"
   ]
  },
  {
   "cell_type": "code",
   "execution_count": 90,
   "id": "118ab6b5-e8a9-4105-a669-d2e13caa13c3",
   "metadata": {},
   "outputs": [],
   "source": [
    "def loss_tracker(loss, value, num):\n",
    "    vis.line(\n",
    "        X=num,\n",
    "        Y=value,\n",
    "        win=loss,\n",
    "        update='append'\n",
    "    )\n",
    "\n",
    "plt = vis.line(Y=torch.Tensor(1).zero_())\n",
    "\n",
    "for i in range(500):\n",
    "    loss = torch.randn(1)+i\n",
    "    loss_tracker(plt, loss, torch.Tensor([i]))\n",
    "\n",
    "\n",
    "'''\n",
    "0~1 내에서 랜덤 값 + i를 loss로 정함\n",
    "plt 창에서 loss값: y축 값, x num : x축 값 추가\n",
    "'''\n"
   ]
  },
  {
   "cell_type": "code",
   "execution_count": null,
   "id": "597aac92-4745-4f38-9b26-086c5e0133ab",
   "metadata": {},
   "outputs": [],
   "source": []
  }
 ],
 "metadata": {
  "kernelspec": {
   "display_name": "Python 3 (ipykernel)",
   "language": "python",
   "name": "python3"
  },
  "language_info": {
   "codemirror_mode": {
    "name": "ipython",
    "version": 3
   },
   "file_extension": ".py",
   "mimetype": "text/x-python",
   "name": "python",
   "nbconvert_exporter": "python",
   "pygments_lexer": "ipython3",
   "version": "3.11.5"
  }
 },
 "nbformat": 4,
 "nbformat_minor": 5
}

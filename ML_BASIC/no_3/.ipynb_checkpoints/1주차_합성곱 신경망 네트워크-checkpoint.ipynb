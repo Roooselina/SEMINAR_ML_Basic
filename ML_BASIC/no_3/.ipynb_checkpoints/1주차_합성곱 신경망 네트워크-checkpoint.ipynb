{
 "cells": [
  {
   "cell_type": "markdown",
   "id": "80f24c4e-aa5d-4521-b8ef-55e44fe29f2b",
   "metadata": {},
   "source": [
    "## 합성곱"
   ]
  },
  {
   "cell_type": "raw",
   "id": "724991f4-4780-4351-89fa-171201a4f8dc",
   "metadata": {},
   "source": [
    "합성곱 : input 이미지 위로 필터가 특정 구간만큼 이동하면서 sum(이미지x필터) 한 것\n",
    "\n",
    "ex:\n",
    "■ ■ ■ ㅁㅁ    ㅁ■ ■ ■ ㅁ\n",
    "■ ■ ■ ㅁㅁ    ㅁ■ ■ ■ ㅁ\n",
    "■ ■ ■ ㅁㅁ => ㅁ■ ■ ■ ㅁ\n",
    "ㅁㅁㅁㅁㅁ    ㅁㅁㅁㅁㅁ\n",
    "\n",
    "\n",
    "stride : 필터가 한 번에 얼만큼 x축으로 이동하는가\n",
    "padding : input 이미지 둘레를 padding 값만큼의 두께로 0으로 두른다"
   ]
  },
  {
   "cell_type": "markdown",
   "id": "9dadfead-8dda-4d08-bf77-af7b4298f629",
   "metadata": {},
   "source": [
    "# "
   ]
  },
  {
   "cell_type": "raw",
   "id": "3baad329-c5c9-4887-8685-7b1a1ec20104",
   "metadata": {},
   "source": [
    "합성곱 결과값 : (input 크기 - 필터 사이즈 + 2*padding)/stride + 1"
   ]
  },
  {
   "cell_type": "markdown",
   "id": "61e071c3-1deb-4e2a-9b7b-38a657999b03",
   "metadata": {},
   "source": [
    "1. inputsize : 277 x 227\n",
    "2. filtersize : 11 x 11\n",
    "3. stride : 4\n",
    "4. padding: 0\n",
    "   ㄴ> output : 55 (*^2는 계산 x)\n",
    "   ㄴ>소수점 발생시: 소수점 버림\n",
    "   ㄴ>>inputsize:n x m 일경우; 1,1,n,m 형으로 출력"
   ]
  },
  {
   "cell_type": "raw",
   "id": "a5e00bb8-e836-42d9-8a78-ad4b64e21b66",
   "metadata": {},
   "source": [
    "각 하나의 노드에 각 픽셀에 맞는 input x 필터값 적용 + b => 합성곱 결과값"
   ]
  },
  {
   "cell_type": "markdown",
   "id": "21d19077-86b0-4057-9b68-a29c803b3686",
   "metadata": {},
   "source": [
    "# "
   ]
  },
  {
   "cell_type": "raw",
   "id": "cc705ce9-04b2-49af-8dea-d689e9c91dc6",
   "metadata": {},
   "source": [
    "Max Pooling : n x m 사이즈 내에서 가장 큰 값 도출\n",
    "Average Pooling : n x m 사이즈 내에서 평균 값 도출\n",
    "ㄴ>위는 필터처럼 겹치지 x; 아예 칸을 지정 후 옆으로 넘어감"
   ]
  },
  {
   "cell_type": "markdown",
   "id": "f4f5d1ee-3304-4f81-bab4-2ff0d621ea1f",
   "metadata": {},
   "source": [
    "# "
   ]
  },
  {
   "cell_type": "code",
   "execution_count": 13,
   "id": "ab2b370b-13f5-4a13-b923-81cecd3cae6e",
   "metadata": {},
   "outputs": [
    {
     "name": "stdout",
     "output_type": "stream",
     "text": [
      "torch.Size([1, 1, 64, 32])\n"
     ]
    }
   ],
   "source": [
    "##예시 들어보기\n",
    "\n",
    "import torch\n",
    "import torch.nn as nn\n",
    "\n",
    "class test(nn.Module):\n",
    "    def __init__(self, planes):\n",
    "        super(test, self).__init__()\n",
    "        self.conv1 = nn.Conv2d(planes, planes, kernel_size=3, padding=1, stride=1)\n",
    "\n",
    "    def forward(self, x):\n",
    "        return self.conv1(x)\n",
    "##Conv2d(입력채널, 출력채널, 커널크기, 패딩값, stride 값)\n",
    "##입력&출력 값 여기서는 동일; 따로 지정시, 다른 값 입력\n",
    "\n",
    "\n",
    "con1 = test(1)\n",
    "\n",
    "# 입력값: (batch_size, channels, height, width)\n",
    "input = torch.Tensor(1, 1, 64, 32)  # Adjust the shape as needed\n",
    "\n",
    "# 만들어진 모델에 값 대입\n",
    "output = con1(input)\n",
    "\n",
    "# Print the shape of the output\n",
    "print(output.shape)"
   ]
  },
  {
   "cell_type": "code",
   "execution_count": null,
   "id": "0e1c57bd-b445-414d-be3e-eb5b39029940",
   "metadata": {},
   "outputs": [],
   "source": []
  }
 ],
 "metadata": {
  "kernelspec": {
   "display_name": "Python 3 (ipykernel)",
   "language": "python",
   "name": "python3"
  },
  "language_info": {
   "codemirror_mode": {
    "name": "ipython",
    "version": 3
   },
   "file_extension": ".py",
   "mimetype": "text/x-python",
   "name": "python",
   "nbconvert_exporter": "python",
   "pygments_lexer": "ipython3",
   "version": "3.11.5"
  }
 },
 "nbformat": 4,
 "nbformat_minor": 5
}
